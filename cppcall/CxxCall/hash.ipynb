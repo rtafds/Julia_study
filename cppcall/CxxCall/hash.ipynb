{
 "cells": [
  {
   "cell_type": "code",
   "execution_count": null,
   "metadata": {},
   "outputs": [],
   "source": []
  },
  {
   "cell_type": "code",
   "execution_count": null,
   "metadata": {},
   "outputs": [],
   "source": []
  },
  {
   "cell_type": "code",
   "execution_count": 3,
   "metadata": {},
   "outputs": [
    {
     "data": {
      "text/plain": [
       "Main.Hash"
      ]
     },
     "metadata": {},
     "output_type": "display_data"
    }
   ],
   "source": [
    "module Hash\n",
    "    using CxxCall\n",
    "    dir = mktempdir()\n",
    "    lib = joinpath(dir, \"libAddCxx\")\n",
    "    filepath = joinpath(dir, \"AddCxx.cxx\")\n",
    "    eval(cxxsetup())\n",
    "    eval(cxxnewfile(filepath,\n",
    "    \"\"\"\n",
    "    #include <stdio.h>\n",
    "    #include <openssl/sha.h>\n",
    "    \"\"\"))\n",
    "    \n",
    "    @cxx lib function add(x::Cint, y::Cint)::Cfloat\n",
    "        \"\"\"\n",
    "        float ret = x + y;\n",
    "        std::cout << \"Welcome to libAddCxx\" << std::endl;\n",
    "        std::cout << \"x=\" << x << \" y=\" << y << \" ret=\" << ret << std::endl;\n",
    "        return ret;\n",
    "        \"\"\"\n",
    "    end\n",
    "end"
   ]
  },
  {
   "cell_type": "code",
   "execution_count": 7,
   "metadata": {},
   "outputs": [
    {
     "name": "stdout",
     "output_type": "stream",
     "text": [
      "Generating C++ code:\n",
      "Generating /var/folders/r4/j4n6nlf11mb1f4rpp3q81q0c0000gn/T/jl_h3Criq/AddCxx.cxx...\n",
      "Done.\n"
     ]
    },
    {
     "name": "stderr",
     "output_type": "stream",
     "text": [
      "/var/folders/r4/j4n6nlf11mb1f4rpp3q81q0c0000gn/T/jl_h3Criq/AddCxx.cxx:5:10: fatal error: 'openssl/sha.h' file not found\n",
      "#include <openssl/sha.h>\n",
      "         ^~~~~~~~~~~~~~~\n",
      "1 error generated.\n"
     ]
    },
    {
     "ename": "ProcessFailedException",
     "evalue": "failed process: Process(`g++ -shared -fPIC /var/folders/r4/j4n6nlf11mb1f4rpp3q81q0c0000gn/T/jl_h3Criq/AddCxx.cxx -o /var/folders/r4/j4n6nlf11mb1f4rpp3q81q0c0000gn/T/jl_h3Criq/libAddCxx.dylib`, ProcessExited(1)) [1]\n",
     "output_type": "error",
     "traceback": [
      "failed process: Process(`g++ -shared -fPIC /var/folders/r4/j4n6nlf11mb1f4rpp3q81q0c0000gn/T/jl_h3Criq/AddCxx.cxx -o /var/folders/r4/j4n6nlf11mb1f4rpp3q81q0c0000gn/T/jl_h3Criq/libAddCxx.dylib`, ProcessExited(1)) [1]\n",
      "\n",
      "\n",
      "Stacktrace:\n",
      " [1] pipeline_error\n",
      "   @ ./process.jl:565 [inlined]\n",
      " [2] run(::Cmd; wait::Bool)\n",
      "   @ Base ./process.jl:480\n",
      " [3] run(::Cmd)\n",
      "   @ Base ./process.jl:477\n",
      " [4] top-level scope\n",
      "   @ ~/Github/Julia_study/cppcall/CxxCall/hash.ipynb:7"
     ]
    }
   ],
   "source": [
    "using Test\n",
    "import .Hash\n",
    "using Libdl\n",
    "\n",
    "Hash.cxx_write_code!()\n",
    "libpath = \"$(Hash.lib).$dlext\"\n",
    "run(`g++ -shared -fPIC $(Hash.filepath) -o $libpath`)\n",
    "dlopen(libpath)\n",
    "Hash.add(Cint(1),Cint(2))"
   ]
  },
  {
   "cell_type": "code",
   "execution_count": null,
   "metadata": {},
   "outputs": [],
   "source": []
  }
 ],
 "metadata": {
  "kernelspec": {
   "display_name": "Julia 1.8.4",
   "language": "julia",
   "name": "julia-1.8"
  },
  "language_info": {
   "file_extension": ".jl",
   "mimetype": "application/julia",
   "name": "julia",
   "version": "1.8.4"
  },
  "orig_nbformat": 4
 },
 "nbformat": 4,
 "nbformat_minor": 2
}
