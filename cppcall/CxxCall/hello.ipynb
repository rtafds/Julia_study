{
 "cells": [
  {
   "cell_type": "code",
   "execution_count": 1,
   "metadata": {},
   "outputs": [
    {
     "name": "stderr",
     "output_type": "stream",
     "text": [
      "\u001b[32m\u001b[1m    Updating\u001b[22m\u001b[39m registry at `~/.julia/registries/General.toml`\n"
     ]
    },
    {
     "name": "stderr",
     "output_type": "stream",
     "text": [
      "\u001b[32m\u001b[1m   Resolving\u001b[22m\u001b[39m package versions...\n"
     ]
    },
    {
     "name": "stderr",
     "output_type": "stream",
     "text": [
      "\u001b[32m\u001b[1m   Installed\u001b[22m\u001b[39m CxxCall ─ v0.2.0\n"
     ]
    },
    {
     "name": "stderr",
     "output_type": "stream",
     "text": [
      "\u001b[32m\u001b[1m    Updating\u001b[22m\u001b[39m `~/.julia/environments/v1.8/Project.toml`\n",
      " \u001b[90m [dbaf2c2e] \u001b[39m\u001b[92m+ CxxCall v0.2.0\u001b[39m\n",
      "\u001b[32m\u001b[1m    Updating\u001b[22m\u001b[39m `~/.julia/environments/v1.8/Manifest.toml`\n",
      " \u001b[90m [dbaf2c2e] \u001b[39m\u001b[92m+ CxxCall v0.2.0\u001b[39m\n"
     ]
    },
    {
     "name": "stderr",
     "output_type": "stream",
     "text": [
      "\u001b[32m\u001b[1mPrecompiling\u001b[22m\u001b[39m project...\n"
     ]
    },
    {
     "name": "stderr",
     "output_type": "stream",
     "text": [
      "\u001b[32m  ✓ \u001b[39mCxxCall\n",
      "  1 dependency successfully precompiled in 1 seconds. 161 already precompiled. 2 skipped during auto due to previous errors.\n"
     ]
    }
   ],
   "source": [
    "# 初回のインストール\n",
    "using Pkg\n",
    "Pkg.add(\"CxxCall\")"
   ]
  },
  {
   "cell_type": "code",
   "execution_count": 1,
   "metadata": {},
   "outputs": [],
   "source": [
    "using CxxCall"
   ]
  },
  {
   "attachments": {},
   "cell_type": "markdown",
   "metadata": {},
   "source": [
    "### Hello World"
   ]
  },
  {
   "cell_type": "code",
   "execution_count": 2,
   "metadata": {},
   "outputs": [
    {
     "data": {
      "text/plain": [
       "hello (generic function with 1 method)"
      ]
     },
     "metadata": {},
     "output_type": "display_data"
    }
   ],
   "source": [
    "# コンパイルのための情報\n",
    "dir = mktempdir()\n",
    "lib = joinpath(dir, \"libHelloWorld\")\n",
    "filepath = joinpath(dir, \"HelloWorld.cxx\")\n",
    "eval(cxxsetup())\n",
    "eval(cxxnewfile(filepath,\n",
    "\"\"\"\n",
    "#include <iostream>\n",
    "\"\"\"))\n",
    "\n",
    "@cxx lib function hello(name::Cstring)::Cvoid\n",
    "    \"\"\"\n",
    "    std::cout << \"Hello \" << name << \"!\" << std::endl;\n",
    "    \"\"\"\n",
    "end"
   ]
  },
  {
   "cell_type": "code",
   "execution_count": 3,
   "metadata": {},
   "outputs": [
    {
     "name": "stdout",
     "output_type": "stream",
     "text": [
      "Generating C++ code:\n",
      "Generating /var/folders/r4/j4n6nlf11mb1f4rpp3q81q0c0000gn/T/jl_itGZZj/HelloWorld.cxx...\n",
      "Done.\n"
     ]
    },
    {
     "data": {
      "text/plain": [
       "Process(`\u001b[4mg++\u001b[24m \u001b[4m-shared\u001b[24m \u001b[4m-fPIC\u001b[24m \u001b[4m/var/folders/r4/j4n6nlf11mb1f4rpp3q81q0c0000gn/T/jl_itGZZj/HelloWorld.cxx\u001b[24m \u001b[4m-o\u001b[24m \u001b[4m/var/folders/r4/j4n6nlf11mb1f4rpp3q81q0c0000gn/T/jl_itGZZj/libHelloWorld.dylib\u001b[24m`, ProcessExited(0))"
      ]
     },
     "metadata": {},
     "output_type": "display_data"
    }
   ],
   "source": [
    "# コンパイル\n",
    "using Libdl\n",
    "cxx_write_code!()\n",
    "libpath = \"$(lib).$dlext\"\n",
    "run(`g++ -shared -fPIC $(filepath) -o $libpath`)\n"
   ]
  },
  {
   "cell_type": "code",
   "execution_count": 4,
   "metadata": {},
   "outputs": [
    {
     "name": "stdout",
     "output_type": "stream",
     "text": [
      "Hello world!\n"
     ]
    }
   ],
   "source": [
    "dlopen(libpath)\n",
    "hello(\"world\")"
   ]
  },
  {
   "attachments": {},
   "cell_type": "markdown",
   "metadata": {},
   "source": [
    "### add"
   ]
  },
  {
   "cell_type": "code",
   "execution_count": 6,
   "metadata": {},
   "outputs": [
    {
     "data": {
      "text/plain": [
       "Main.Wrapper"
      ]
     },
     "metadata": {},
     "output_type": "display_data"
    }
   ],
   "source": [
    "module Wrapper\n",
    "    using CxxCall\n",
    "    dir = mktempdir()\n",
    "    lib = joinpath(dir, \"libAddCxx\")\n",
    "    filepath = joinpath(dir, \"AddCxx.cxx\")\n",
    "    eval(cxxsetup())\n",
    "    eval(cxxnewfile(filepath,\n",
    "    \"\"\"\n",
    "    #include <iostream>\n",
    "    \"\"\"))\n",
    "    \n",
    "    @cxx lib function add(x::Cint, y::Cint)::Cfloat\n",
    "        \"\"\"\n",
    "        float ret = x + y;\n",
    "        std::cout << \"Welcome to libAddCxx\" << std::endl;\n",
    "        std::cout << \"x=\" << x << \" y=\" << y << \" ret=\" << ret << std::endl;\n",
    "        return ret;\n",
    "        \"\"\"\n",
    "    end\n",
    "\n",
    "    @cxx lib function add_sloppy(x::Convert(Any=>Cint), y::Convert(Int64=>Cint))::Cfloat\n",
    "        \"\"\"\n",
    "        float ret = x + y;\n",
    "        return ret;\n",
    "        \"\"\"\n",
    "    end\n",
    "end#module Wrapper"
   ]
  },
  {
   "cell_type": "code",
   "execution_count": 12,
   "metadata": {},
   "outputs": [
    {
     "name": "stdout",
     "output_type": "stream",
     "text": [
      "Generating C++ code:\n",
      "Generating /var/folders/r4/j4n6nlf11mb1f4rpp3q81q0c0000gn/T/jl_5uJxE1/AddCxx.cxx...\n",
      "Done.\n"
     ]
    },
    {
     "name": "stdout",
     "output_type": "stream",
     "text": [
      "Welcome to libAddCxx\n",
      "x=1 y=2 ret=3\n"
     ]
    },
    {
     "data": {
      "text/plain": [
       "3.0f0"
      ]
     },
     "metadata": {},
     "output_type": "display_data"
    }
   ],
   "source": [
    "using Test\n",
    "import .Wrapper\n",
    "using Libdl\n",
    "\n",
    "\n",
    "Wrapper.cxx_write_code!()\n",
    "libpath = \"$(Wrapper.lib).$dlext\"\n",
    "run(`g++ -shared -fPIC $(Wrapper.filepath) -o $libpath`)\n",
    "dlopen(libpath)\n",
    "Wrapper.add(Cint(1),Cint(2))"
   ]
  },
  {
   "cell_type": "code",
   "execution_count": 13,
   "metadata": {},
   "outputs": [
    {
     "name": "stdout",
     "output_type": "stream",
     "text": [
      "AddCxx: \u001b[91m\u001b[1mTest Failed\u001b[22m\u001b[39m at \u001b[39m\u001b[1m/Users/smamitsu/Github/Julia_study/cppcall/CxxCall/hello.ipynb:3\u001b[22m\n",
      "  Expression: !(ispath(Wrapper.filepath))\n",
      "Stacktrace:\n",
      " [1] \u001b[0m\u001b[1mmacro expansion\u001b[22m\n",
      "\u001b[90m   @ \u001b[39m\u001b[90m/Applications/Julia-1.8.app/Contents/Resources/julia/share/julia/stdlib/v1.8/Test/src/\u001b[39m\u001b[90m\u001b[4mTest.jl:464\u001b[24m\u001b[39m\u001b[90m [inlined]\u001b[39m\n",
      " [2] \u001b[0m\u001b[1mmacro expansion\u001b[22m\n",
      "\u001b[90m   @ \u001b[39m\u001b[90m~/Github/Julia_study/cppcall/CxxCall/\u001b[39m\u001b[90m\u001b[4mhello.ipynb:3\u001b[24m\u001b[39m\u001b[90m [inlined]\u001b[39m\n",
      " [3] \u001b[0m\u001b[1mmacro expansion\u001b[22m\n",
      "\u001b[90m   @ \u001b[39m\u001b[90m/Applications/Julia-1.8.app/Contents/Resources/julia/share/julia/stdlib/v1.8/Test/src/\u001b[39m\u001b[90m\u001b[4mTest.jl:1363\u001b[24m\u001b[39m\u001b[90m [inlined]\u001b[39m\n",
      " [4] top-level scope\n",
      "\u001b[90m   @ \u001b[39m\u001b[90m~/Github/Julia_study/cppcall/CxxCall/\u001b[39m\u001b[90m\u001b[4mhello.ipynb:3\u001b[24m\u001b[39m\n",
      "Generating C++ code:\n",
      "Generating /var/folders/r4/j4n6nlf11mb1f4rpp3q81q0c0000gn/T/jl_5uJxE1/AddCxx.cxx...\n",
      "Done.\n"
     ]
    },
    {
     "name": "stdout",
     "output_type": "stream",
     "text": [
      "Welcome to libAddCxx\n",
      "x=1 y=2 ret=3\n",
      "\u001b[0m\u001b[1mTest Summary: | \u001b[22m\u001b[32m\u001b[1mPass  \u001b[22m\u001b[39m\u001b[91m\u001b[1mFail  \u001b[22m\u001b[39m\u001b[36m\u001b[1mTotal  \u001b[22m\u001b[39m\u001b[0m\u001b[1mTime\u001b[22m\n",
      "AddCxx        | \u001b[32m   7  \u001b[39m\u001b[91m   1  \u001b[39m\u001b[36m    8  \u001b[39m\u001b[0m0.2s\n"
     ]
    },
    {
     "ename": "TestSetException",
     "evalue": "Some tests did not pass: 7 passed, 1 failed, 0 errored, 0 broken.",
     "output_type": "error",
     "traceback": [
      "Some tests did not pass: 7 passed, 1 failed, 0 errored, 0 broken.\n",
      "\n",
      "Stacktrace:\n",
      " [1] finish(ts::Test.DefaultTestSet)\n",
      "   @ Test /Applications/Julia-1.8.app/Contents/Resources/julia/share/julia/stdlib/v1.8/Test/src/Test.jl:1095\n",
      " [2] macro expansion\n",
      "   @ /Applications/Julia-1.8.app/Contents/Resources/julia/share/julia/stdlib/v1.8/Test/src/Test.jl:1374 [inlined]\n",
      " [3] top-level scope\n",
      "   @ ~/Github/Julia_study/cppcall/CxxCall/hello.ipynb:3"
     ]
    }
   ],
   "source": [
    "# まとめてテスト  最初の!ispathでエラーが出るのが正常\n",
    "@testset \"AddCxx\" begin\n",
    "    @test !ispath(Wrapper.filepath)\n",
    "    Wrapper.cxx_write_code!()\n",
    "    @test isfile(Wrapper.filepath)\n",
    "    libpath = \"$(Wrapper.lib).$dlext\"\n",
    "    run(`g++ -shared -fPIC $(Wrapper.filepath) -o $libpath`)\n",
    "    @test isfile(libpath)\n",
    "    dlopen(libpath)\n",
    "    @test Wrapper.add(Cint(1),Cint(2)) === 3f0\n",
    "    @test_throws MethodError Wrapper.add(Int64(1),Cint(2)) === 3f0\n",
    "    @test Wrapper.add_sloppy(Int128(1), Int64(2)) === 3f0\n",
    "    @test Wrapper.add_sloppy(Float16(1), Int64(2)) === 3f0\n",
    "    @test_throws MethodError Wrapper.add_sloppy(Float16(1), Int32(2)) === 3f0\n",
    "end"
   ]
  }
 ],
 "metadata": {
  "kernelspec": {
   "display_name": "Julia 1.8.4",
   "language": "julia",
   "name": "julia-1.8"
  },
  "language_info": {
   "file_extension": ".jl",
   "mimetype": "application/julia",
   "name": "julia",
   "version": "1.8.4"
  },
  "orig_nbformat": 4
 },
 "nbformat": 4,
 "nbformat_minor": 2
}
