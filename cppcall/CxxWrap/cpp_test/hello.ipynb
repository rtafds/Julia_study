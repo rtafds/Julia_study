{
 "cells": [
  {
   "attachments": {},
   "cell_type": "markdown",
   "metadata": {},
   "source": [
    "https://qiita.com/SatoshiTerasaki/items/ca33e1d75fe62cee842b  \n",
    "https://github.com/JuliaInterop/Cxx.jl"
   ]
  },
  {
   "attachments": {},
   "cell_type": "markdown",
   "metadata": {},
   "source": [
    "### cmakeのインストール(Mac)\n",
    "brew install cmake"
   ]
  },
  {
   "cell_type": "code",
   "execution_count": 4,
   "metadata": {},
   "outputs": [
    {
     "name": "stderr",
     "output_type": "stream",
     "text": [
      "\u001b[32m\u001b[1m    Updating\u001b[22m\u001b[39m registry at `~/.julia/registries/General.toml`\n"
     ]
    },
    {
     "name": "stderr",
     "output_type": "stream",
     "text": [
      "\u001b[32m\u001b[1m   Resolving\u001b[22m\u001b[39m package versions...\n"
     ]
    },
    {
     "name": "stderr",
     "output_type": "stream",
     "text": [
      "\u001b[32m\u001b[1m   Installed\u001b[22m\u001b[39m libcxxwrap_julia_jll ─ v0.9.3+0\n",
      "\u001b[32m\u001b[1m   Installed\u001b[22m\u001b[39m CxxWrap ────────────── v0.13.1\n"
     ]
    },
    {
     "name": "stderr",
     "output_type": "stream",
     "text": [
      "\u001b[32m\u001b[1m    Updating\u001b[22m\u001b[39m `~/.julia/environments/v1.8/Project.toml`\n",
      " \u001b[90m [1f15a43c] \u001b[39m\u001b[92m+ CxxWrap v0.13.1\u001b[39m\n",
      "\u001b[32m\u001b[1m    Updating\u001b[22m\u001b[39m `~/.julia/environments/v1.8/Manifest.toml`\n",
      " \u001b[90m [1f15a43c] \u001b[39m\u001b[92m+ CxxWrap v0.13.1\u001b[39m\n",
      " \u001b[90m [3eaa8342] \u001b[39m\u001b[92m+ libcxxwrap_julia_jll v0.9.3+0\u001b[39m\n"
     ]
    },
    {
     "name": "stderr",
     "output_type": "stream",
     "text": [
      "\u001b[32m\u001b[1mPrecompiling\u001b[22m\u001b[39m project...\n"
     ]
    },
    {
     "name": "stderr",
     "output_type": "stream",
     "text": [
      "\u001b[32m  ✓ \u001b[39m\u001b[90mlibcxxwrap_julia_jll\u001b[39m\n"
     ]
    },
    {
     "name": "stderr",
     "output_type": "stream",
     "text": [
      "\u001b[32m  ✓ \u001b[39mCxxWrap\n",
      "  2 dependencies successfully precompiled in 5 seconds. 158 already precompiled.\n",
      "\u001b[32m\u001b[1m   Resolving\u001b[22m\u001b[39m package versions...\n"
     ]
    },
    {
     "name": "stderr",
     "output_type": "stream",
     "text": [
      "\u001b[32m\u001b[1m   Installed\u001b[22m\u001b[39m BinaryProvider ─ v0.5.10\n"
     ]
    },
    {
     "name": "stderr",
     "output_type": "stream",
     "text": [
      "\u001b[32m\u001b[1m   Installed\u001b[22m\u001b[39m Cxx ──────────── v0.4.0\n",
      "\u001b[32m\u001b[1m    Updating\u001b[22m\u001b[39m `~/.julia/environments/v1.8/Project.toml`\n",
      " \u001b[90m [a0b5b9ef] \u001b[39m\u001b[92m+ Cxx v0.4.0\u001b[39m\n",
      "\u001b[32m\u001b[1m    Updating\u001b[22m\u001b[39m `~/.julia/environments/v1.8/Manifest.toml`\n",
      " \u001b[90m [b99e7846] \u001b[39m\u001b[92m+ BinaryProvider v0.5.10\u001b[39m\n",
      " \u001b[90m [a0b5b9ef] \u001b[39m\u001b[92m+ Cxx v0.4.0\u001b[39m\n",
      "\u001b[32m\u001b[1m    Building\u001b[22m\u001b[39m Cxx → `~/.julia/scratchspaces/44cfe95a-1eb2-52ea-b672-e2afdf69b78f/71728149f62225470a4ae4260536a98a5009997c/build.log`\n"
     ]
    },
    {
     "ename": "Pkg.Types.PkgError",
     "evalue": "Error building `Cxx`: \n┌ Warning: Platform `arm64-apple-darwin21.5.0` is not an officially supported platform\n└ @ BinaryProvider ~/.julia/packages/BinaryProvider/U2dKK/src/PlatformNames.jl:450\nERROR: LoadError: KeyError: key \"unknown\" not found\nStacktrace:\n  [1] getindex\n    @ ./dict.jl:498 [inlined]\n  [2] parse_dl_name_version\n    @ ~/.julia/packages/BinaryProvider/U2dKK/src/PlatformNames.jl:511 [inlined]\n  [3] detect_libgfortran_abi(libgfortran_name::String, platform::BinaryProvider.UnknownPlatform) (repeats 2 times)\n    @ BinaryProvider ~/.julia/packages/BinaryProvider/U2dKK/src/PlatformNames.jl:555\n  [4] detect_libgfortran_abi\n    @ ~/.julia/packages/BinaryProvider/U2dKK/src/PlatformNames.jl:584 [inlined]\n  [5] detect_compiler_abi()\n    @ BinaryProvider ~/.julia/packages/BinaryProvider/U2dKK/src/PlatformNames.jl:667\n  [6] top-level scope\n    @ ~/.julia/packages/BinaryProvider/U2dKK/src/PlatformNames.jl:685\n  [7] include(mod::Module, _path::String)\n    @ Base ./Base.jl:419\n  [8] include(x::String)\n    @ BinaryProvider ~/.julia/packages/BinaryProvider/U2dKK/src/BinaryProvider.jl:1\n  [9] top-level scope\n    @ ~/.julia/packages/BinaryProvider/U2dKK/src/BinaryProvider.jl:12\n [10] include\n    @ ./Base.jl:419 [inlined]\n [11] include_package_for_output(pkg::Base.PkgId, input::String, depot_path::Vector{String}, dl_load_path::Vector{String}, load_path::Vector{String}, concrete_deps::Vector{Pair{Base.PkgId, UInt64}}, source::String)\n    @ Base ./loading.jl:1554\n [12] top-level scope\n    @ stdin:1\nin expression starting at /Users/smamitsu/.julia/packages/BinaryProvider/U2dKK/src/PlatformNames.jl:685\nin expression starting at /Users/smamitsu/.julia/packages/BinaryProvider/U2dKK/src/BinaryProvider.jl:1\nin expression starting at stdin:1\n[ Info: Building julia binary build\nERROR: LoadError: Failed to precompile BinaryProvider [b99e7846-7c00-51b0-8f62-c81ae34c0232] to /Users/smamitsu/.julia/compiled/v1.8/BinaryProvider/jl_zNEhPn.\nStacktrace:\n  [1] error(s::String)\n    @ Base ./error.jl:35\n  [2] compilecache(pkg::Base.PkgId, path::String, internal_stderr::IO, internal_stdout::IO, keep_loaded_modules::Bool)\n    @ Base ./loading.jl:1707\n  [3] compilecache\n    @ ./loading.jl:1651 [inlined]\n  [4] _require(pkg::Base.PkgId)\n    @ Base ./loading.jl:1337\n  [5] _require_prelocked(uuidkey::Base.PkgId)\n    @ Base ./loading.jl:1200\n  [6] macro expansion\n    @ ./loading.jl:1180 [inlined]\n  [7] macro expansion\n    @ ./lock.jl:223 [inlined]\n  [8] require(into::Module, mod::Symbol)\n    @ Base ./loading.jl:1144\n  [9] include(fname::String)\n    @ Base.MainInclude ./client.jl:476\n [10] top-level scope\n    @ ~/.julia/packages/Cxx/1RaOv/deps/build.jl:40\n [11] include(fname::String)\n    @ Base.MainInclude ./client.jl:476\n [12] top-level scope\n    @ none:5\nin expression starting at /Users/smamitsu/.julia/packages/Cxx/1RaOv/deps/build_libcxxffi.jl:1\nin expression starting at /Users/smamitsu/.julia/packages/Cxx/1RaOv/deps/build.jl:28\nwriting path.jl file\nTuning for julia installation at /Applications/Julia-1.8.app/Contents/Resources/julia/bin with sources possibly at /Applications/Julia-1.8.app/Contents/Resources/",
     "output_type": "error",
     "traceback": [
      "Error building `Cxx`: \n",
      "┌ Warning: Platform `arm64-apple-darwin21.5.0` is not an officially supported platform\n",
      "└ @ BinaryProvider ~/.julia/packages/BinaryProvider/U2dKK/src/PlatformNames.jl:450\n",
      "ERROR: LoadError: KeyError: key \"unknown\" not found\n",
      "Stacktrace:\n",
      "  [1] getindex\n",
      "    @ ./dict.jl:498 [inlined]\n",
      "  [2] parse_dl_name_version\n",
      "    @ ~/.julia/packages/BinaryProvider/U2dKK/src/PlatformNames.jl:511 [inlined]\n",
      "  [3] detect_libgfortran_abi(libgfortran_name::String, platform::BinaryProvider.UnknownPlatform) (repeats 2 times)\n",
      "    @ BinaryProvider ~/.julia/packages/BinaryProvider/U2dKK/src/PlatformNames.jl:555\n",
      "  [4] detect_libgfortran_abi\n",
      "    @ ~/.julia/packages/BinaryProvider/U2dKK/src/PlatformNames.jl:584 [inlined]\n",
      "  [5] detect_compiler_abi()\n",
      "    @ BinaryProvider ~/.julia/packages/BinaryProvider/U2dKK/src/PlatformNames.jl:667\n",
      "  [6] top-level scope\n",
      "    @ ~/.julia/packages/BinaryProvider/U2dKK/src/PlatformNames.jl:685\n",
      "  [7] include(mod::Module, _path::String)\n",
      "    @ Base ./Base.jl:419\n",
      "  [8] include(x::String)\n",
      "    @ BinaryProvider ~/.julia/packages/BinaryProvider/U2dKK/src/BinaryProvider.jl:1\n",
      "  [9] top-level scope\n",
      "    @ ~/.julia/packages/BinaryProvider/U2dKK/src/BinaryProvider.jl:12\n",
      " [10] include\n",
      "    @ ./Base.jl:419 [inlined]\n",
      " [11] include_package_for_output(pkg::Base.PkgId, input::String, depot_path::Vector{String}, dl_load_path::Vector{String}, load_path::Vector{String}, concrete_deps::Vector{Pair{Base.PkgId, UInt64}}, source::String)\n",
      "    @ Base ./loading.jl:1554\n",
      " [12] top-level scope\n",
      "    @ stdin:1\n",
      "in expression starting at /Users/smamitsu/.julia/packages/BinaryProvider/U2dKK/src/PlatformNames.jl:685\n",
      "in expression starting at /Users/smamitsu/.julia/packages/BinaryProvider/U2dKK/src/BinaryProvider.jl:1\n",
      "in expression starting at stdin:1\n",
      "[ Info: Building julia binary build\n",
      "ERROR: LoadError: Failed to precompile BinaryProvider [b99e7846-7c00-51b0-8f62-c81ae34c0232] to /Users/smamitsu/.julia/compiled/v1.8/BinaryProvider/jl_zNEhPn.\n",
      "Stacktrace:\n",
      "  [1] error(s::String)\n",
      "    @ Base ./error.jl:35\n",
      "  [2] compilecache(pkg::Base.PkgId, path::String, internal_stderr::IO, internal_stdout::IO, keep_loaded_modules::Bool)\n",
      "    @ Base ./loading.jl:1707\n",
      "  [3] compilecache\n",
      "    @ ./loading.jl:1651 [inlined]\n",
      "  [4] _require(pkg::Base.PkgId)\n",
      "    @ Base ./loading.jl:1337\n",
      "  [5] _require_prelocked(uuidkey::Base.PkgId)\n",
      "    @ Base ./loading.jl:1200\n",
      "  [6] macro expansion\n",
      "    @ ./loading.jl:1180 [inlined]\n",
      "  [7] macro expansion\n",
      "    @ ./lock.jl:223 [inlined]\n",
      "  [8] require(into::Module, mod::Symbol)\n",
      "    @ Base ./loading.jl:1144\n",
      "  [9] include(fname::String)\n",
      "    @ Base.MainInclude ./client.jl:476\n",
      " [10] top-level scope\n",
      "    @ ~/.julia/packages/Cxx/1RaOv/deps/build.jl:40\n",
      " [11] include(fname::String)\n",
      "    @ Base.MainInclude ./client.jl:476\n",
      " [12] top-level scope\n",
      "    @ none:5\n",
      "in expression starting at /Users/smamitsu/.julia/packages/Cxx/1RaOv/deps/build_libcxxffi.jl:1\n",
      "in expression starting at /Users/smamitsu/.julia/packages/Cxx/1RaOv/deps/build.jl:28\n",
      "writing path.jl file\n",
      "Tuning for julia installation at /Applications/Julia-1.8.app/Contents/Resources/julia/bin with sources possibly at /Applications/Julia-1.8.app/Contents/Resources/\n",
      "\n",
      "Stacktrace:\n",
      "  [1] pkgerror(msg::String)\n",
      "    @ Pkg.Types /Applications/Julia-1.8.app/Contents/Resources/julia/share/julia/stdlib/v1.8/Pkg/src/Types.jl:67\n",
      "  [2] (::Pkg.Operations.var\"#66#73\"{Bool, Pkg.Types.Context, String, Pkg.Types.PackageSpec, String})()\n",
      "    @ Pkg.Operations /Applications/Julia-1.8.app/Contents/Resources/julia/share/julia/stdlib/v1.8/Pkg/src/Operations.jl:1060\n",
      "  [3] withenv(::Pkg.Operations.var\"#66#73\"{Bool, Pkg.Types.Context, String, Pkg.Types.PackageSpec, String}, ::Pair{String, String}, ::Vararg{Pair{String}})\n",
      "    @ Base ./env.jl:172\n",
      "  [4] (::Pkg.Operations.var\"#107#112\"{String, Bool, Bool, Bool, Pkg.Operations.var\"#66#73\"{Bool, Pkg.Types.Context, String, Pkg.Types.PackageSpec, String}, Pkg.Types.PackageSpec})()\n",
      "    @ Pkg.Operations /Applications/Julia-1.8.app/Contents/Resources/julia/share/julia/stdlib/v1.8/Pkg/src/Operations.jl:1619\n",
      "  [5] with_temp_env(fn::Pkg.Operations.var\"#107#112\"{String, Bool, Bool, Bool, Pkg.Operations.var\"#66#73\"{Bool, Pkg.Types.Context, String, Pkg.Types.PackageSpec, String}, Pkg.Types.PackageSpec}, temp_env::String)\n",
      "    @ Pkg.Operations /Applications/Julia-1.8.app/Contents/Resources/julia/share/julia/stdlib/v1.8/Pkg/src/Operations.jl:1493\n",
      "  [6] (::Pkg.Operations.var\"#105#110\"{Dict{String, Any}, Bool, Bool, Bool, Pkg.Operations.var\"#66#73\"{Bool, Pkg.Types.Context, String, Pkg.Types.PackageSpec, String}, Pkg.Types.Context, Pkg.Types.PackageSpec, String, Pkg.Types.Project, String})(tmp::String)\n",
      "    @ Pkg.Operations /Applications/Julia-1.8.app/Contents/Resources/julia/share/julia/stdlib/v1.8/Pkg/src/Operations.jl:1582\n",
      "  [7] mktempdir(fn::Pkg.Operations.var\"#105#110\"{Dict{String, Any}, Bool, Bool, Bool, Pkg.Operations.var\"#66#73\"{Bool, Pkg.Types.Context, String, Pkg.Types.PackageSpec, String}, Pkg.Types.Context, Pkg.Types.PackageSpec, String, Pkg.Types.Project, String}, parent::String; prefix::String)\n",
      "    @ Base.Filesystem ./file.jl:764\n",
      "  [8] mktempdir(fn::Function, parent::String) (repeats 2 times)\n",
      "    @ Base.Filesystem ./file.jl:760\n",
      "  [9] sandbox(fn::Function, ctx::Pkg.Types.Context, target::Pkg.Types.PackageSpec, target_path::String, sandbox_path::String, sandbox_project_override::Pkg.Types.Project; preferences::Dict{String, Any}, force_latest_compatible_version::Bool, allow_earlier_backwards_compatible_versions::Bool, allow_reresolve::Bool)\n",
      "    @ Pkg.Operations /Applications/Julia-1.8.app/Contents/Resources/julia/share/julia/stdlib/v1.8/Pkg/src/Operations.jl:1540\n",
      " [10] build_versions(ctx::Pkg.Types.Context, uuids::Set{Base.UUID}; verbose::Bool)\n",
      "    @ Pkg.Operations /Applications/Julia-1.8.app/Contents/Resources/julia/share/julia/stdlib/v1.8/Pkg/src/Operations.jl:1041\n",
      " [11] build_versions\n",
      "    @ /Applications/Julia-1.8.app/Contents/Resources/julia/share/julia/stdlib/v1.8/Pkg/src/Operations.jl:956 [inlined]\n",
      " [12] add(ctx::Pkg.Types.Context, pkgs::Vector{Pkg.Types.PackageSpec}, new_git::Set{Base.UUID}; preserve::Pkg.Types.PreserveLevel, platform::Base.BinaryPlatforms.Platform)\n",
      "    @ Pkg.Operations /Applications/Julia-1.8.app/Contents/Resources/julia/share/julia/stdlib/v1.8/Pkg/src/Operations.jl:1286\n",
      " [13] add(ctx::Pkg.Types.Context, pkgs::Vector{Pkg.Types.PackageSpec}; preserve::Pkg.Types.PreserveLevel, platform::Base.BinaryPlatforms.Platform, kwargs::Base.Pairs{Symbol, VSCodeServer.IJuliaCore.IJuliaStdio{Base.PipeEndpoint, typeof(VSCodeServer.io_send_callback)}, Tuple{Symbol}, NamedTuple{(:io,), Tuple{VSCodeServer.IJuliaCore.IJuliaStdio{Base.PipeEndpoint, typeof(VSCodeServer.io_send_callback)}}}})\n",
      "    @ Pkg.API /Applications/Julia-1.8.app/Contents/Resources/julia/share/julia/stdlib/v1.8/Pkg/src/API.jl:275\n",
      " [14] add(pkgs::Vector{Pkg.Types.PackageSpec}; io::VSCodeServer.IJuliaCore.IJuliaStdio{Base.PipeEndpoint, typeof(VSCodeServer.io_send_callback)}, kwargs::Base.Pairs{Symbol, Union{}, Tuple{}, NamedTuple{(), Tuple{}}})\n",
      "    @ Pkg.API /Applications/Julia-1.8.app/Contents/Resources/julia/share/julia/stdlib/v1.8/Pkg/src/API.jl:156\n",
      " [15] add(pkgs::Vector{Pkg.Types.PackageSpec})\n",
      "    @ Pkg.API /Applications/Julia-1.8.app/Contents/Resources/julia/share/julia/stdlib/v1.8/Pkg/src/API.jl:145\n",
      " [16] #add#27\n",
      "    @ /Applications/Julia-1.8.app/Contents/Resources/julia/share/julia/stdlib/v1.8/Pkg/src/API.jl:144 [inlined]\n",
      " [17] add\n",
      "    @ /Applications/Julia-1.8.app/Contents/Resources/julia/share/julia/stdlib/v1.8/Pkg/src/API.jl:144 [inlined]\n",
      " [18] #add#26\n",
      "    @ /Applications/Julia-1.8.app/Contents/Resources/julia/share/julia/stdlib/v1.8/Pkg/src/API.jl:143 [inlined]\n",
      " [19] add(pkg::String)\n",
      "    @ Pkg.API /Applications/Julia-1.8.app/Contents/Resources/julia/share/julia/stdlib/v1.8/Pkg/src/API.jl:143\n",
      " [20] top-level scope\n",
      "    @ ~/Github/Julia_study/cppcall/cpp_test/call_main.ipynb:4"
     ]
    }
   ],
   "source": [
    "# パッケージのインストール\n",
    "using Pkg\n",
    "Pkg.add(\"CxxWrap\")\n",
    "Pkg.add(\"Cxx\")"
   ]
  },
  {
   "attachments": {},
   "cell_type": "markdown",
   "metadata": {},
   "source": [
    "### g++でビルドする\n",
    "```\n",
    "JL=\"$(dirname \"$(dirname `which julia`)\")\"\n",
    "PREFIX=`julia -e 'using CxxWrap; CxxWrap.prefix_path() |> print'`\n",
    "g++ -fPIC -shared -std=c++17 \\\n",
    "  -I${PREFIX}/include/ \\\n",
    "  -I${JL}/include/julia \\\n",
    "  hello.cpp -o libhello.so\n",
    "```"
   ]
  }
 ],
 "metadata": {
  "kernelspec": {
   "display_name": "Julia 1.8.4",
   "language": "julia",
   "name": "julia-1.8"
  },
  "language_info": {
   "file_extension": ".jl",
   "mimetype": "application/julia",
   "name": "julia",
   "version": "1.8.4"
  },
  "orig_nbformat": 4
 },
 "nbformat": 4,
 "nbformat_minor": 2
}
