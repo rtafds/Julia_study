{
 "cells": [
  {
   "attachments": {},
   "cell_type": "markdown",
   "metadata": {},
   "source": [
    "## opensslのインストール\n",
    "https://medium.com/@timmykko/using-openssl-library-with-macos-sierra-7807cfd47892\n",
    "### Mac環境\n",
    "terminalにて\n",
    "```\n",
    "brew install openssl\n",
    "brew link --force openssl\n",
    "```"
   ]
  },
  {
   "cell_type": "code",
   "execution_count": 3,
   "metadata": {},
   "outputs": [
    {
     "name": "stdout",
     "output_type": "stream",
     "text": [
      "-- The CXX compiler identification is AppleClang 14.0.0.14000029\n",
      "-- Detecting CXX compiler ABI info\n"
     ]
    },
    {
     "name": "stdout",
     "output_type": "stream",
     "text": [
      "-- Detecting CXX compiler ABI info - done\n",
      "-- Check for working CXX compiler: /Library/Developer/CommandLineTools/usr/bin/c++ - skipped\n",
      "-- Detecting CXX compile features\n",
      "-- Detecting CXX compile features - done\n"
     ]
    },
    {
     "name": "stdout",
     "output_type": "stream",
     "text": [
      "-- Found OpenSSL: /opt/homebrew/Cellar/openssl@3/3.0.8/lib/libcrypto.dylib (found version \"3.0.8\")  \n",
      "-- Configuring done\n",
      "-- Generating done\n",
      "-- Build files have been written to: /Users/smamitsu/Github/Julia_study/ccall/calc_hash/build\n",
      "[ 50%] Building CXX object CMakeFiles/a.out.dir/calc_hash.cpp.o\n"
     ]
    },
    {
     "name": "stderr",
     "output_type": "stream",
     "text": [
      "/Users/smamitsu/Github/Julia_study/ccall/calc_hash/calc_hash.cpp:6:19: warning: conversion from string literal to 'char *' is deprecated [-Wc++11-compat-deprecated-writable-strings]\n",
      "        char *message = {\"Sample Message\"};\n",
      "                         ^\n",
      "/Users/smamitsu/Github/Julia_study/ccall/calc_hash/calc_hash.cpp:10:2: warning: 'SHA256_Init' is deprecated [-Wdeprecated-declarations]\n",
      "        SHA256_Init(&sha_ctx); // コンテキストを初期化\n",
      "        ^\n",
      "/opt/homebrew/Cellar/openssl@3/3.0.8/include/openssl/sha.h:73:1: note: 'SHA256_Init' has been explicitly marked deprecated here\n",
      "OSSL_DEPRECATEDIN_3_0 int SHA256_Init(SHA256_CTX *c);\n",
      "^\n",
      "/opt/homebrew/Cellar/openssl@3/3.0.8/include/openssl/macros.h:182:49: note: expanded from macro 'OSSL_DEPRECATEDIN_3_0'\n",
      "#   define OSSL_DEPRECATEDIN_3_0                OSSL_DEPRECATED(3.0)\n",
      "                                                ^\n",
      "/opt/homebrew/Cellar/openssl@3/3.0.8/include/openssl/macros.h:62:52: note: expanded from macro 'OSSL_DEPRECATED'\n",
      "#     define OSSL_DEPRECATED(since) __attribute__((deprecated))\n",
      "                                                   ^\n",
      "/Users/smamitsu/Github/Julia_study/ccall/calc_hash/calc_hash.cpp:11:2: warning: 'SHA256_Update' is deprecated [-Wdeprecated-declarations]\n",
      "        SHA256_Update(&sha_ctx, message, sizeof(message)); // message を入力にする\n",
      "        ^\n",
      "/opt/homebrew/Cellar/openssl@3/3.0.8/include/openssl/sha.h:74:1: note: 'SHA256_Update' has been explicitly marked deprecated here\n",
      "OSSL_DEPRECATEDIN_3_0 int SHA256_Update(SHA256_CTX *c,\n",
      "^\n",
      "/opt/homebrew/Cellar/openssl@3/3.0.8/include/openssl/macros.h:182:49: note: expanded from macro 'OSSL_DEPRECATEDIN_3_0'\n",
      "#   define OSSL_DEPRECATEDIN_3_0                OSSL_DEPRECATED(3.0)\n",
      "                                                ^\n",
      "/opt/homebrew/Cellar/openssl@3/3.0.8/include/openssl/macros.h:62:52: note: expanded from macro 'OSSL_DEPRECATED'\n",
      "#     define OSSL_DEPRECATED(since) __attribute__((deprecated))\n",
      "                                                   ^\n",
      "/Users/smamitsu/Github/Julia_study/ccall/calc_hash/calc_hash.cpp:12:2: warning: 'SHA256_Final' is deprecated [-Wdeprecated-declarations]\n",
      "        SHA256_Final(digest, &sha_ctx); // digest に出力\n",
      "        ^\n",
      "/opt/homebrew/Cellar/openssl@3/3.0.8/include/openssl/sha.h:76:1: note: 'SHA256_Final' has been explicitly marked deprecated here\n",
      "OSSL_DEPRECATEDIN_3_0 int SHA256_Final(unsigned char *md, SHA256_CTX *c);\n",
      "^\n",
      "/opt/homebrew/Cellar/openssl@3/3.0.8/include/openssl/macros.h:182:49: note: expanded from macro 'OSSL_DEPRECATEDIN_3_0'\n",
      "#   define OSSL_DEPRECATEDIN_3_0                OSSL_DEPRECATED(3.0)\n",
      "                                                ^\n",
      "/opt/homebrew/Cellar/openssl@3/3.0.8/include/openssl/macros.h:62:52: note: expanded from macro 'OSSL_DEPRECATED'\n",
      "#     define OSSL_DEPRECATED(since) __attribute__((deprecated))\n",
      "                                                   ^\n",
      "4 warnings generated.\n"
     ]
    },
    {
     "name": "stdout",
     "output_type": "stream",
     "text": [
      "[100%] Linking CXX executable a.out\n",
      "[100%] Built target a.out\n"
     ]
    },
    {
     "data": {
      "text/plain": [
       "Process(`\u001b[4mcmake\u001b[24m \u001b[4m--build\u001b[24m \u001b[4mbuild\u001b[24m`, ProcessExited(0))"
      ]
     },
     "metadata": {},
     "output_type": "display_data"
    }
   ],
   "source": [
    "# cmakeのビルド\n",
    "run(`cmake -S . -B build`)\n",
    "run(`cmake --build build`)\n"
   ]
  },
  {
   "cell_type": "code",
   "execution_count": 14,
   "metadata": {},
   "outputs": [
    {
     "ename": "ErrorException",
     "evalue": "could not load library \"bulid/a.out\"\ndlopen(bulid/a.out.dylib, 0x0001): tried: 'bulid/a.out.dylib' (no such file), '/System/Volumes/Preboot/Cryptexes/OSbulid/a.out.dylib' (no such file), '/Applications/Julia-1.8.app/Contents/Resources/julia/lib/julia/bulid/a.out.dylib' (no such file), '/Applications/Julia-1.8.app/Contents/Resources/julia/lib/bulid/a.out.dylib' (no such file), '/usr/lib/bulid/a.out.dylib' (no such file, not in dyld cache), 'bulid/a.out.dylib' (no such file)",
     "output_type": "error",
     "traceback": [
      "could not load library \"bulid/a.out\"\n",
      "dlopen(bulid/a.out.dylib, 0x0001): tried: 'bulid/a.out.dylib' (no such file), '/System/Volumes/Preboot/Cryptexes/OSbulid/a.out.dylib' (no such file), '/Applications/Julia-1.8.app/Contents/Resources/julia/lib/julia/bulid/a.out.dylib' (no such file), '/Applications/Julia-1.8.app/Contents/Resources/julia/lib/bulid/a.out.dylib' (no such file), '/usr/lib/bulid/a.out.dylib' (no such file, not in dyld cache), 'bulid/a.out.dylib' (no such file)\n",
      "\n",
      "Stacktrace:\n",
      " [1] (::var\"#23#24\")()\n",
      "   @ Main ~/Github/Julia_study/ccall/calc_hash/call_hash.ipynb:1\n",
      " [2] top-level scope\n",
      "   @ ~/Github/Julia_study/ccall/calc_hash/call_hash.ipynb:2"
     ]
    }
   ],
   "source": [
    "cfunc=()->ccall((:main,\"bulid/a.out\"), Int32, ())\n",
    "cfunc()"
   ]
  },
  {
   "attachments": {},
   "cell_type": "markdown",
   "metadata": {},
   "source": [
    "ccallでは対応していないようなので、CxxWrapでかんばりたいが、むりぽ"
   ]
  }
 ],
 "metadata": {
  "kernelspec": {
   "display_name": "Julia 1.8.4",
   "language": "julia",
   "name": "julia-1.8"
  },
  "language_info": {
   "file_extension": ".jl",
   "mimetype": "application/julia",
   "name": "julia",
   "version": "1.8.4"
  },
  "orig_nbformat": 4
 },
 "nbformat": 4,
 "nbformat_minor": 2
}
