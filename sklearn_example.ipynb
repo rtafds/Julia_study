{
 "cells": [
  {
   "attachments": {},
   "cell_type": "markdown",
   "metadata": {},
   "source": [
    "## Juliaでpythonのパッケージ(sklearn)を動かしてみる\n",
    "\n",
    "参考: https://qiita.com/Ag_smith/items/0352890b8cf3420765d0  \n",
    "https://qiita.com/Miyazaki-Yu/items/51d1e29b1df5ce29bba4  \n",
    "https://gist.github.com/terasakisatoshi/23b7b69af2893691a992fb7263e185c9  \n",
    "https://twitter.com/genkuroki/status/1307386185942069248?s=20&t=IQHHqCVKwj0EseVkjN_MdA  \n",
    "https://qiita.com/Ken-Kuroki/items/115d0679fdce1d15b9d1  "
   ]
  },
  {
   "cell_type": "code",
   "execution_count": 1,
   "metadata": {},
   "outputs": [
    {
     "name": "stderr",
     "output_type": "stream",
     "text": [
      "\u001b[32m\u001b[1m    Updating\u001b[22m\u001b[39m registry at `~/.julia/registries/General.toml`\n",
      "\u001b[32m\u001b[1m   Resolving\u001b[22m\u001b[39m package versions...\n",
      "\u001b[32m\u001b[1m  No Changes\u001b[22m\u001b[39m to `~/.julia/environments/v1.8/Project.toml`\n",
      "\u001b[32m\u001b[1m  No Changes\u001b[22m\u001b[39m to `~/.julia/environments/v1.8/Manifest.toml`\n",
      "\u001b[32m\u001b[1m   Resolving\u001b[22m\u001b[39m package versions...\n",
      "\u001b[32m\u001b[1m  No Changes\u001b[22m\u001b[39m to `~/.julia/environments/v1.8/Project.toml`\n",
      "\u001b[32m\u001b[1m  No Changes\u001b[22m\u001b[39m to `~/.julia/environments/v1.8/Manifest.toml`\n",
      "\u001b[32m\u001b[1m   Resolving\u001b[22m\u001b[39m package versions...\n",
      "\u001b[32m\u001b[1m  No Changes\u001b[22m\u001b[39m to `~/.julia/environments/v1.8/Project.toml`\n",
      "\u001b[32m\u001b[1m  No Changes\u001b[22m\u001b[39m to `~/.julia/environments/v1.8/Manifest.toml`\n",
      "\u001b[32m\u001b[1m   Resolving\u001b[22m\u001b[39m package versions...\n",
      "\u001b[32m\u001b[1m  No Changes\u001b[22m\u001b[39m to `~/.julia/environments/v1.8/Project.toml`\n",
      "\u001b[32m\u001b[1m  No Changes\u001b[22m\u001b[39m to `~/.julia/environments/v1.8/Manifest.toml`\n",
      "\u001b[32m\u001b[1m   Resolving\u001b[22m\u001b[39m package versions...\n",
      "\u001b[32m\u001b[1m  No Changes\u001b[22m\u001b[39m to `~/.julia/environments/v1.8/Project.toml`\n",
      "\u001b[32m\u001b[1m  No Changes\u001b[22m\u001b[39m to `~/.julia/environments/v1.8/Manifest.toml`\n",
      "\u001b[32m\u001b[1m   Resolving\u001b[22m\u001b[39m package versions...\n",
      "\u001b[32m\u001b[1m  No Changes\u001b[22m\u001b[39m to `~/.julia/environments/v1.8/Project.toml`\n",
      "\u001b[32m\u001b[1m  No Changes\u001b[22m\u001b[39m to `~/.julia/environments/v1.8/Manifest.toml`\n",
      "\u001b[32m\u001b[1m   Resolving\u001b[22m\u001b[39m package versions...\n",
      "\u001b[32m\u001b[1m  No Changes\u001b[22m\u001b[39m to `~/.julia/environments/v1.8/Project.toml`\n",
      "\u001b[32m\u001b[1m  No Changes\u001b[22m\u001b[39m to `~/.julia/environments/v1.8/Manifest.toml`\n",
      "\u001b[36m\u001b[1m[ \u001b[22m\u001b[39m\u001b[36m\u001b[1mInfo: \u001b[22m\u001b[39mRunning `conda update -y --all conda` in root environment\n"
     ]
    },
    {
     "name": "stdout",
     "output_type": "stream",
     "text": [
      "Collecting package metadata (current_repodata.json): ...working... done\n",
      "Solving environment: ...working... done\n",
      "\n",
      "## Package Plan ##\n",
      "\n",
      "  environment location: /Users/smamitsu/.julia/conda/3\n",
      "\n",
      "  added / updated specs:\n",
      "    - conda\n",
      "\n",
      "\n",
      "The following packages will be REMOVED:\n",
      "\n",
      "  ninja-1.11.0-hf86a087_0\n",
      "\n",
      "\n",
      "Preparing transaction: ...working... done\n",
      "Verifying transaction: ...working... done\n",
      "Executing transaction: ...working... done\n"
     ]
    },
    {
     "name": "stderr",
     "output_type": "stream",
     "text": [
      "\u001b[36m\u001b[1m[ \u001b[22m\u001b[39m\u001b[36m\u001b[1mInfo: \u001b[22m\u001b[39mRunning `conda install -y numpy` in root environment\n"
     ]
    },
    {
     "name": "stdout",
     "output_type": "stream",
     "text": [
      "Collecting package metadata (current_repodata.json): ...working... done\n",
      "Solving environment: ...working... done\n",
      "\n",
      "# All requested packages already installed.\n",
      "\n"
     ]
    },
    {
     "name": "stderr",
     "output_type": "stream",
     "text": [
      "\u001b[36m\u001b[1m[ \u001b[22m\u001b[39m\u001b[36m\u001b[1mInfo: \u001b[22m\u001b[39mRunning `conda install -y scikit-learn` in root environment\n"
     ]
    },
    {
     "name": "stdout",
     "output_type": "stream",
     "text": [
      "Collecting package metadata (current_repodata.json): ...working... done\n",
      "Solving environment: ...working... done\n",
      "\n",
      "# All requested packages already installed.\n",
      "\n"
     ]
    },
    {
     "name": "stderr",
     "output_type": "stream",
     "text": [
      "\u001b[36m\u001b[1m[ \u001b[22m\u001b[39m\u001b[36m\u001b[1mInfo: \u001b[22m\u001b[39mRunning `conda install -y pandas` in root environment\n"
     ]
    },
    {
     "name": "stdout",
     "output_type": "stream",
     "text": [
      "Collecting package metadata (current_repodata.json): ...working... done\n",
      "Solving environment: ...working... done\n",
      "\n",
      "# All requested packages already installed.\n",
      "\n"
     ]
    },
    {
     "name": "stderr",
     "output_type": "stream",
     "text": [
      "\u001b[32m\u001b[1m    Building\u001b[22m\u001b[39m Conda ─→ `~/.julia/scratchspaces/44cfe95a-1eb2-52ea-b672-e2afdf69b78f/6e47d11ea2776bc5627421d59cdcc1296c058071/build.log`\n",
      "\u001b[32m\u001b[1m    Building\u001b[22m\u001b[39m PyCall → `~/.julia/scratchspaces/44cfe95a-1eb2-52ea-b672-e2afdf69b78f/62f417f6ad727987c755549e9cd88c46578da562/build.log`\n"
     ]
    }
   ],
   "source": [
    "# 初回のインストール\n",
    "using Pkg\n",
    "Pkg.add(\"PyCall\")\n",
    "Pkg.add(\"Conda\")\n",
    "Pkg.add(\"Pandas\")\n",
    "Pkg.add(\"DataFrames\")\n",
    "Pkg.add(\"CSV\")\n",
    "Pkg.add(\"Shuffle\")\n",
    "Pkg.add(\"Metrics\")\n",
    "\n",
    "using PyCall\n",
    "using Conda\n",
    "Conda.update()\n",
    "Conda.add(\"numpy\")\n",
    "Conda.add(\"scikit-learn\")\n",
    "Conda.add(\"pandas\")\n",
    "\n",
    "ENV[\"PYTHON\"] = ENV[\"HOME\"] * \"/.julia/conda/3/bin/python3.10\"\n",
    "Pkg.build(\"PyCall\")"
   ]
  },
  {
   "cell_type": "code",
   "execution_count": 2,
   "metadata": {},
   "outputs": [],
   "source": [
    "using PyCall\n",
    "using CSV\n",
    "using DataFrames\n",
    "using Pandas: Pandas, iloc\n",
    "using Shuffle\n",
    "using Metrics"
   ]
  },
  {
   "attachments": {},
   "cell_type": "markdown",
   "metadata": {},
   "source": [
    "### Juliaで読み込んで最小限のところだけpythonにやらせるやり方"
   ]
  },
  {
   "cell_type": "code",
   "execution_count": 3,
   "metadata": {},
   "outputs": [],
   "source": [
    "data_path = \"adult.csv\"\n",
    "jldf = CSV.read(data_path, DataFrame);"
   ]
  },
  {
   "cell_type": "code",
   "execution_count": 4,
   "metadata": {},
   "outputs": [
    {
     "data": {
      "text/plain": [
       "(\u001b[1m34189×15 DataFrame\u001b[0m\n",
       "\u001b[1m   Row \u001b[0m│\u001b[1m age     \u001b[0m\u001b[1m workclass \u001b[0m\u001b[1m fnlwgt   \u001b[0m\u001b[1m education \u001b[0m\u001b[1m education-num \u001b[0m\u001b[1m marital-statu\u001b[0m ⋯\n",
       "       │\u001b[90m Float64 \u001b[0m\u001b[90m Int64     \u001b[0m\u001b[90m Float64  \u001b[0m\u001b[90m Int64     \u001b[0m\u001b[90m Float64       \u001b[0m\u001b[90m Int64        \u001b[0m ⋯\n",
       "───────┼────────────────────────────────────────────────────────────────────────\n",
       "     1 │    31.0          4  161153.0         11            9.0                ⋯\n",
       "     2 │    90.0          4   51744.0         12           14.0\n",
       "     3 │    21.0          4  155483.0         15           10.0\n",
       "     4 │    46.0          4  129232.0          9           13.0\n",
       "     5 │    49.0          1  216453.0          8           11.0                ⋯\n",
       "     6 │    26.0          4  210521.0         11            9.0\n",
       "     7 │    29.0          4  150861.0         15           10.0\n",
       "     8 │    36.0          4  359397.0          1            7.0\n",
       "     9 │    30.0          4  175931.0         15           10.0                ⋯\n",
       "    10 │    47.0          5  215620.0         12           14.0\n",
       "    11 │    42.0          4  228320.0         15           10.0\n",
       "   ⋮   │    ⋮         ⋮         ⋮          ⋮            ⋮              ⋮       ⋱\n",
       " 34180 │    41.0          4  109912.0          9           13.0\n",
       " 34181 │    50.0          4  177487.0         11            9.0                ⋯\n",
       " 34182 │    44.0          4  106900.0         12           14.0\n",
       " 34183 │    30.0          4  171598.0          9           13.0\n",
       " 34184 │    29.0          4  198825.0         11            9.0\n",
       " 34185 │    44.0          4  244522.0         11            9.0                ⋯\n",
       " 34186 │    23.0          6  191283.0         11            9.0\n",
       " 34187 │    28.0          4   99478.0         11            9.0\n",
       " 34188 │    20.0          4  137300.0          8           11.0\n",
       " 34189 │    28.0          4  398220.0         15           10.0                ⋯\n",
       "\u001b[36m                                               10 columns and 34168 rows omitted\u001b[0m, \u001b[1m14653×15 DataFrame\u001b[0m\n",
       "\u001b[1m   Row \u001b[0m│\u001b[1m age     \u001b[0m\u001b[1m workclass \u001b[0m\u001b[1m fnlwgt   \u001b[0m\u001b[1m education \u001b[0m\u001b[1m education-num \u001b[0m\u001b[1m marital-statu\u001b[0m ⋯\n",
       "       │\u001b[90m Float64 \u001b[0m\u001b[90m Int64     \u001b[0m\u001b[90m Float64  \u001b[0m\u001b[90m Int64     \u001b[0m\u001b[90m Float64       \u001b[0m\u001b[90m Int64        \u001b[0m ⋯\n",
       "───────┼────────────────────────────────────────────────────────────────────────\n",
       "     1 │    18.0          4  198856.0         15           10.0                ⋯\n",
       "     2 │    40.0          6  284706.0         14           15.0\n",
       "     3 │    26.0          6  221626.0         11            9.0\n",
       "     4 │    32.0          4  261059.0         15           10.0\n",
       "     5 │    48.0          7   77102.0         10           16.0                ⋯\n",
       "     6 │    47.0          4  193061.0         15           10.0\n",
       "     7 │    59.0          5  159472.0         11            9.0\n",
       "     8 │    37.0          4  167415.0         14           15.0\n",
       "     9 │    59.0          6   49996.0         11            9.0                ⋯\n",
       "    10 │    32.0          4   86808.0         11            9.0\n",
       "    11 │    40.0          2  104196.0          2            8.0\n",
       "   ⋮   │    ⋮         ⋮         ⋮          ⋮            ⋮              ⋮       ⋱\n",
       " 14644 │    44.0          4  267717.0         12           14.0\n",
       " 14645 │    26.0          4  108658.0         11            9.0                ⋯\n",
       " 14646 │    38.0          2   84570.0         15           10.0\n",
       " 14647 │    27.0          6  132686.0         11            9.0\n",
       " 14648 │    59.0          4  230899.0          6            5.0\n",
       " 14649 │    55.0          0  376058.0          6            5.0                ⋯\n",
       " 14650 │    19.0          4  266635.0         11            9.0\n",
       " 14651 │    34.0          4   82938.0         11            9.0\n",
       " 14652 │    52.0          2  100226.0          9           13.0\n",
       " 14653 │    42.0          6   93853.0         15           10.0                ⋯\n",
       "\u001b[36m                                               10 columns and 14632 rows omitted\u001b[0m)"
      ]
     },
     "execution_count": 4,
     "metadata": {},
     "output_type": "execute_result"
    }
   ],
   "source": [
    "# train_test_splitの関数\n",
    "function partitionTrainTest(data, at = 0.7)\n",
    "    n = nrow(data)\n",
    "    idx = shuffle(1:n)\n",
    "    train_idx = view(idx, 1:floor(Int, at*n))\n",
    "    test_idx = view(idx, (floor(Int, at*n)+1):n)\n",
    "    data[train_idx,:], data[test_idx,:]\n",
    "end\n",
    "train,test = partitionTrainTest(jldf)\n"
   ]
  },
  {
   "cell_type": "code",
   "execution_count": 10,
   "metadata": {},
   "outputs": [
    {
     "data": {
      "text/plain": [
       "Pandas.DataFrame"
      ]
     },
     "execution_count": 10,
     "metadata": {},
     "output_type": "execute_result"
    }
   ],
   "source": [
    "# Julia側で分割して、pandasに変換する\n",
    "X_train = train[:,1:end-1]; y_train = train[:,end]\n",
    "X_test = test[:,1:end-1]; y_test = test[:,end]\n",
    "\n",
    "# Pandas.jlの型はそのままPyObject(pandas.DataFrame)に渡すことができる。\n",
    "X_train_py = Pandas.DataFrame(X_train); y_train_py = Pandas.DataFrame(y_train)\n",
    "X_test_py = Pandas.DataFrame(X_test); y_test_py = Pandas.DataFrame(y_test)\n",
    "typeof(X_train_py)  # JuliaのPandas.DataFrameのオブジェクトになるが、これはpythonのpandasに渡すことができる。"
   ]
  },
  {
   "cell_type": "code",
   "execution_count": 11,
   "metadata": {},
   "outputs": [
    {
     "name": "stderr",
     "output_type": "stream",
     "text": [
      "/Users/smamitsu/.julia/conda/3/lib/python3.10/site-packages/sklearn/ensemble/_gb.py:437: DataConversionWarning: A column-vector y was passed when a 1d array was expected. Please change the shape of y to (n_samples, ), for example using ravel().\n",
      "  y = column_or_1d(y, warn=True)\n"
     ]
    },
    {
     "data": {
      "text/html": [
       "<style>#sk-container-id-3 {color: black;background-color: white;}#sk-container-id-3 pre{padding: 0;}#sk-container-id-3 div.sk-toggleable {background-color: white;}#sk-container-id-3 label.sk-toggleable__label {cursor: pointer;display: block;width: 100%;margin-bottom: 0;padding: 0.3em;box-sizing: border-box;text-align: center;}#sk-container-id-3 label.sk-toggleable__label-arrow:before {content: \"▸\";float: left;margin-right: 0.25em;color: #696969;}#sk-container-id-3 label.sk-toggleable__label-arrow:hover:before {color: black;}#sk-container-id-3 div.sk-estimator:hover label.sk-toggleable__label-arrow:before {color: black;}#sk-container-id-3 div.sk-toggleable__content {max-height: 0;max-width: 0;overflow: hidden;text-align: left;background-color: #f0f8ff;}#sk-container-id-3 div.sk-toggleable__content pre {margin: 0.2em;color: black;border-radius: 0.25em;background-color: #f0f8ff;}#sk-container-id-3 input.sk-toggleable__control:checked~div.sk-toggleable__content {max-height: 200px;max-width: 100%;overflow: auto;}#sk-container-id-3 input.sk-toggleable__control:checked~label.sk-toggleable__label-arrow:before {content: \"▾\";}#sk-container-id-3 div.sk-estimator input.sk-toggleable__control:checked~label.sk-toggleable__label {background-color: #d4ebff;}#sk-container-id-3 div.sk-label input.sk-toggleable__control:checked~label.sk-toggleable__label {background-color: #d4ebff;}#sk-container-id-3 input.sk-hidden--visually {border: 0;clip: rect(1px 1px 1px 1px);clip: rect(1px, 1px, 1px, 1px);height: 1px;margin: -1px;overflow: hidden;padding: 0;position: absolute;width: 1px;}#sk-container-id-3 div.sk-estimator {font-family: monospace;background-color: #f0f8ff;border: 1px dotted black;border-radius: 0.25em;box-sizing: border-box;margin-bottom: 0.5em;}#sk-container-id-3 div.sk-estimator:hover {background-color: #d4ebff;}#sk-container-id-3 div.sk-parallel-item::after {content: \"\";width: 100%;border-bottom: 1px solid gray;flex-grow: 1;}#sk-container-id-3 div.sk-label:hover label.sk-toggleable__label {background-color: #d4ebff;}#sk-container-id-3 div.sk-serial::before {content: \"\";position: absolute;border-left: 1px solid gray;box-sizing: border-box;top: 0;bottom: 0;left: 50%;z-index: 0;}#sk-container-id-3 div.sk-serial {display: flex;flex-direction: column;align-items: center;background-color: white;padding-right: 0.2em;padding-left: 0.2em;position: relative;}#sk-container-id-3 div.sk-item {position: relative;z-index: 1;}#sk-container-id-3 div.sk-parallel {display: flex;align-items: stretch;justify-content: center;background-color: white;position: relative;}#sk-container-id-3 div.sk-item::before, #sk-container-id-3 div.sk-parallel-item::before {content: \"\";position: absolute;border-left: 1px solid gray;box-sizing: border-box;top: 0;bottom: 0;left: 50%;z-index: -1;}#sk-container-id-3 div.sk-parallel-item {display: flex;flex-direction: column;z-index: 1;position: relative;background-color: white;}#sk-container-id-3 div.sk-parallel-item:first-child::after {align-self: flex-end;width: 50%;}#sk-container-id-3 div.sk-parallel-item:last-child::after {align-self: flex-start;width: 50%;}#sk-container-id-3 div.sk-parallel-item:only-child::after {width: 0;}#sk-container-id-3 div.sk-dashed-wrapped {border: 1px dashed gray;margin: 0 0.4em 0.5em 0.4em;box-sizing: border-box;padding-bottom: 0.4em;background-color: white;}#sk-container-id-3 div.sk-label label {font-family: monospace;font-weight: bold;display: inline-block;line-height: 1.2em;}#sk-container-id-3 div.sk-label-container {text-align: center;}#sk-container-id-3 div.sk-container {/* jupyter's `normalize.less` sets `[hidden] { display: none; }` but bootstrap.min.css set `[hidden] { display: none !important; }` so we also need the `!important` here to be able to override the default hidden behavior on the sphinx rendered scikit-learn.org. See: https://github.com/scikit-learn/scikit-learn/issues/21755 */display: inline-block !important;position: relative;}#sk-container-id-3 div.sk-text-repr-fallback {display: none;}</style><div id=\"sk-container-id-3\" class=\"sk-top-container\"><div class=\"sk-text-repr-fallback\"><pre>GradientBoostingClassifier()</pre><b>In a Jupyter environment, please rerun this cell to show the HTML representation or trust the notebook. <br />On GitHub, the HTML representation is unable to render, please try loading this page with nbviewer.org.</b></div><div class=\"sk-container\" hidden><div class=\"sk-item\"><div class=\"sk-estimator sk-toggleable\"><input class=\"sk-toggleable__control sk-hidden--visually\" id=\"sk-estimator-id-3\" type=\"checkbox\" checked><label for=\"sk-estimator-id-3\" class=\"sk-toggleable__label sk-toggleable__label-arrow\">GradientBoostingClassifier</label><div class=\"sk-toggleable__content\"><pre>GradientBoostingClassifier()</pre></div></div></div></div></div>"
      ],
      "text/plain": [
       "PyObject GradientBoostingClassifier()"
      ]
     },
     "execution_count": 11,
     "metadata": {},
     "output_type": "execute_result"
    }
   ],
   "source": [
    "# pythonに渡してfitさせる\n",
    "py\"\"\"\n",
    "import pandas as pd\n",
    "import numpy as np\n",
    "from sklearn.ensemble import GradientBoostingClassifier\n",
    "\n",
    "def fit(X,y):\n",
    "    gbc = GradientBoostingClassifier()\n",
    "    gbc.fit(X,y)\n",
    "    return gbc\n",
    "\"\"\"\n",
    "\n",
    "gbc = py\"fit\"(X_train_py, y_train_py)"
   ]
  },
  {
   "cell_type": "code",
   "execution_count": 12,
   "metadata": {},
   "outputs": [
    {
     "data": {
      "text/plain": [
       "Vector{Int64}\u001b[90m (alias for \u001b[39m\u001b[90mArray{Int64, 1}\u001b[39m\u001b[90m)\u001b[39m"
      ]
     },
     "execution_count": 12,
     "metadata": {},
     "output_type": "execute_result"
    }
   ],
   "source": [
    "# 予測\n",
    "py\"\"\"\n",
    "def predict(gbc,X):\n",
    "    y = gbc.predict(X)\n",
    "    return y\n",
    "\"\"\"\n",
    "\n",
    "y_pred = py\"predict\"(gbc, X_test_py)\n",
    "typeof(y_pred)   # 受け取りはJuliaのオブジェクトになる。"
   ]
  },
  {
   "cell_type": "code",
   "execution_count": 13,
   "metadata": {},
   "outputs": [
    {
     "data": {
      "text/plain": [
       "0.8654200505016038"
      ]
     },
     "execution_count": 13,
     "metadata": {},
     "output_type": "execute_result"
    }
   ],
   "source": [
    "# スコアの算出\n",
    "Metrics.binary_accuracy(y_test,y_pred)"
   ]
  },
  {
   "attachments": {},
   "cell_type": "markdown",
   "metadata": {},
   "source": [
    "### pythonで読み込んで、処理をする"
   ]
  },
  {
   "cell_type": "code",
   "execution_count": 13,
   "metadata": {},
   "outputs": [
    {
     "data": {
      "text/html": [
       "<div>\n",
       "<style scoped>\n",
       "    .dataframe tbody tr th:only-of-type {\n",
       "        vertical-align: middle;\n",
       "    }\n",
       "\n",
       "    .dataframe tbody tr th {\n",
       "        vertical-align: top;\n",
       "    }\n",
       "\n",
       "    .dataframe thead th {\n",
       "        text-align: right;\n",
       "    }\n",
       "</style>\n",
       "<table border=\"1\" class=\"dataframe\">\n",
       "  <thead>\n",
       "    <tr style=\"text-align: right;\">\n",
       "      <th></th>\n",
       "      <th>age</th>\n",
       "      <th>workclass</th>\n",
       "      <th>fnlwgt</th>\n",
       "      <th>education</th>\n",
       "      <th>education-num</th>\n",
       "      <th>marital-status</th>\n",
       "      <th>occupation</th>\n",
       "      <th>relationship</th>\n",
       "      <th>race</th>\n",
       "      <th>sex</th>\n",
       "      <th>capital-gain</th>\n",
       "      <th>capital-loss</th>\n",
       "      <th>hours-per-week</th>\n",
       "      <th>native-country</th>\n",
       "      <th>target</th>\n",
       "    </tr>\n",
       "  </thead>\n",
       "  <tbody>\n",
       "    <tr>\n",
       "      <th>0</th>\n",
       "      <td>39.0</td>\n",
       "      <td>7</td>\n",
       "      <td>77516.0</td>\n",
       "      <td>9</td>\n",
       "      <td>13.0</td>\n",
       "      <td>4</td>\n",
       "      <td>1</td>\n",
       "      <td>1</td>\n",
       "      <td>4</td>\n",
       "      <td>1</td>\n",
       "      <td>2174.0</td>\n",
       "      <td>0.0</td>\n",
       "      <td>40.0</td>\n",
       "      <td>39</td>\n",
       "      <td>1</td>\n",
       "    </tr>\n",
       "    <tr>\n",
       "      <th>1</th>\n",
       "      <td>50.0</td>\n",
       "      <td>6</td>\n",
       "      <td>83311.0</td>\n",
       "      <td>9</td>\n",
       "      <td>13.0</td>\n",
       "      <td>2</td>\n",
       "      <td>4</td>\n",
       "      <td>0</td>\n",
       "      <td>4</td>\n",
       "      <td>1</td>\n",
       "      <td>0.0</td>\n",
       "      <td>0.0</td>\n",
       "      <td>13.0</td>\n",
       "      <td>39</td>\n",
       "      <td>1</td>\n",
       "    </tr>\n",
       "    <tr>\n",
       "      <th>2</th>\n",
       "      <td>38.0</td>\n",
       "      <td>4</td>\n",
       "      <td>215646.0</td>\n",
       "      <td>11</td>\n",
       "      <td>9.0</td>\n",
       "      <td>0</td>\n",
       "      <td>6</td>\n",
       "      <td>1</td>\n",
       "      <td>4</td>\n",
       "      <td>1</td>\n",
       "      <td>0.0</td>\n",
       "      <td>0.0</td>\n",
       "      <td>40.0</td>\n",
       "      <td>39</td>\n",
       "      <td>1</td>\n",
       "    </tr>\n",
       "    <tr>\n",
       "      <th>3</th>\n",
       "      <td>53.0</td>\n",
       "      <td>4</td>\n",
       "      <td>234721.0</td>\n",
       "      <td>1</td>\n",
       "      <td>7.0</td>\n",
       "      <td>2</td>\n",
       "      <td>6</td>\n",
       "      <td>0</td>\n",
       "      <td>2</td>\n",
       "      <td>1</td>\n",
       "      <td>0.0</td>\n",
       "      <td>0.0</td>\n",
       "      <td>40.0</td>\n",
       "      <td>39</td>\n",
       "      <td>1</td>\n",
       "    </tr>\n",
       "    <tr>\n",
       "      <th>4</th>\n",
       "      <td>28.0</td>\n",
       "      <td>4</td>\n",
       "      <td>338409.0</td>\n",
       "      <td>9</td>\n",
       "      <td>13.0</td>\n",
       "      <td>2</td>\n",
       "      <td>10</td>\n",
       "      <td>5</td>\n",
       "      <td>2</td>\n",
       "      <td>0</td>\n",
       "      <td>0.0</td>\n",
       "      <td>0.0</td>\n",
       "      <td>40.0</td>\n",
       "      <td>5</td>\n",
       "      <td>1</td>\n",
       "    </tr>\n",
       "    <tr>\n",
       "      <th>...</th>\n",
       "      <td>...</td>\n",
       "      <td>...</td>\n",
       "      <td>...</td>\n",
       "      <td>...</td>\n",
       "      <td>...</td>\n",
       "      <td>...</td>\n",
       "      <td>...</td>\n",
       "      <td>...</td>\n",
       "      <td>...</td>\n",
       "      <td>...</td>\n",
       "      <td>...</td>\n",
       "      <td>...</td>\n",
       "      <td>...</td>\n",
       "      <td>...</td>\n",
       "      <td>...</td>\n",
       "    </tr>\n",
       "    <tr>\n",
       "      <th>48837</th>\n",
       "      <td>39.0</td>\n",
       "      <td>4</td>\n",
       "      <td>215419.0</td>\n",
       "      <td>9</td>\n",
       "      <td>13.0</td>\n",
       "      <td>0</td>\n",
       "      <td>10</td>\n",
       "      <td>1</td>\n",
       "      <td>4</td>\n",
       "      <td>0</td>\n",
       "      <td>0.0</td>\n",
       "      <td>0.0</td>\n",
       "      <td>36.0</td>\n",
       "      <td>39</td>\n",
       "      <td>1</td>\n",
       "    </tr>\n",
       "    <tr>\n",
       "      <th>48838</th>\n",
       "      <td>64.0</td>\n",
       "      <td>0</td>\n",
       "      <td>321403.0</td>\n",
       "      <td>11</td>\n",
       "      <td>9.0</td>\n",
       "      <td>6</td>\n",
       "      <td>0</td>\n",
       "      <td>2</td>\n",
       "      <td>2</td>\n",
       "      <td>1</td>\n",
       "      <td>0.0</td>\n",
       "      <td>0.0</td>\n",
       "      <td>40.0</td>\n",
       "      <td>39</td>\n",
       "      <td>1</td>\n",
       "    </tr>\n",
       "    <tr>\n",
       "      <th>48839</th>\n",
       "      <td>38.0</td>\n",
       "      <td>4</td>\n",
       "      <td>374983.0</td>\n",
       "      <td>9</td>\n",
       "      <td>13.0</td>\n",
       "      <td>2</td>\n",
       "      <td>10</td>\n",
       "      <td>0</td>\n",
       "      <td>4</td>\n",
       "      <td>1</td>\n",
       "      <td>0.0</td>\n",
       "      <td>0.0</td>\n",
       "      <td>50.0</td>\n",
       "      <td>39</td>\n",
       "      <td>1</td>\n",
       "    </tr>\n",
       "    <tr>\n",
       "      <th>48840</th>\n",
       "      <td>44.0</td>\n",
       "      <td>4</td>\n",
       "      <td>83891.0</td>\n",
       "      <td>9</td>\n",
       "      <td>13.0</td>\n",
       "      <td>0</td>\n",
       "      <td>1</td>\n",
       "      <td>3</td>\n",
       "      <td>1</td>\n",
       "      <td>1</td>\n",
       "      <td>5455.0</td>\n",
       "      <td>0.0</td>\n",
       "      <td>40.0</td>\n",
       "      <td>39</td>\n",
       "      <td>1</td>\n",
       "    </tr>\n",
       "    <tr>\n",
       "      <th>48841</th>\n",
       "      <td>35.0</td>\n",
       "      <td>5</td>\n",
       "      <td>182148.0</td>\n",
       "      <td>9</td>\n",
       "      <td>13.0</td>\n",
       "      <td>2</td>\n",
       "      <td>4</td>\n",
       "      <td>0</td>\n",
       "      <td>4</td>\n",
       "      <td>1</td>\n",
       "      <td>0.0</td>\n",
       "      <td>0.0</td>\n",
       "      <td>60.0</td>\n",
       "      <td>39</td>\n",
       "      <td>0</td>\n",
       "    </tr>\n",
       "  </tbody>\n",
       "</table>\n",
       "<p>48842 rows × 15 columns</p>\n",
       "</div>"
      ],
      "text/plain": [
       "PyObject         age  workclass    fnlwgt  ...  hours-per-week  native-country  target\n",
       "0      39.0          7   77516.0  ...            40.0              39       1\n",
       "1      50.0          6   83311.0  ...            13.0              39       1\n",
       "2      38.0          4  215646.0  ...            40.0              39       1\n",
       "3      53.0          4  234721.0  ...            40.0              39       1\n",
       "4      28.0          4  338409.0  ...            40.0               5       1\n",
       "...     ...        ...       ...  ...             ...             ...     ...\n",
       "48837  39.0          4  215419.0  ...            36.0              39       1\n",
       "48838  64.0          0  321403.0  ...            40.0              39       1\n",
       "48839  38.0          4  374983.0  ...            50.0              39       1\n",
       "48840  44.0          4   83891.0  ...            40.0              39       1\n",
       "48841  35.0          5  182148.0  ...            60.0              39       0\n",
       "\n",
       "[48842 rows x 15 columns]"
      ]
     },
     "metadata": {},
     "output_type": "display_data"
    }
   ],
   "source": [
    "# pyimportしたpandasでPyObjectとして読み込む\n",
    "pandas = pyimport(\"pandas\")\n",
    "pydf = pandas.read_csv(data_path)"
   ]
  },
  {
   "cell_type": "code",
   "execution_count": 14,
   "metadata": {},
   "outputs": [
    {
     "data": {
      "text/plain": [
       "PyObject"
      ]
     },
     "metadata": {},
     "output_type": "display_data"
    }
   ],
   "source": [
    "typeof(pydf)"
   ]
  },
  {
   "cell_type": "code",
   "execution_count": 15,
   "metadata": {},
   "outputs": [
    {
     "data": {
      "text/plain": [
       "2-element Vector{PyObject}:\n",
       " PyObject         age  workclass    fnlwgt  ...  hours-per-week  native-country  target\n",
       "25562  45.0          4   72844.0  ...            46.0              39       1\n",
       "19831  60.0          4  163729.0  ...            40.0              39       1\n",
       "17239  33.0          4  351810.0  ...            45.0              26       1\n",
       "31458  24.0          4  314182.0  ...            50.0              39       1\n",
       "13571  34.0          4  186824.0  ...            70.0              39       1\n",
       "...     ...        ...       ...  ...             ...             ...     ...\n",
       "3816   29.0          2  175262.0  ...            35.0              39       1\n",
       "39992  39.0          4  111000.0  ...            35.0              39       1\n",
       "9875   31.0          2  331126.0  ...            48.0              39       1\n",
       "25165  25.0          4  233461.0  ...            30.0              39       1\n",
       "31916  18.0          4  218889.0  ...            35.0              39       1\n",
       "\n",
       "[14652 rows x 15 columns]\n",
       " PyObject         age  workclass    fnlwgt  ...  hours-per-week  native-country  target\n",
       "7169   54.0          4   94055.0  ...            40.0              39       1\n",
       "37781  30.0          4  203488.0  ...            60.0              39       1\n",
       "6228   24.0          4  336088.0  ...            50.0              39       1\n",
       "22027  25.0          4  189850.0  ...            40.0              39       1\n",
       "4887   33.0          1  159548.0  ...            40.0              39       1\n",
       "...     ...        ...       ...  ...             ...             ...     ...\n",
       "26530  38.0          6   65716.0  ...            40.0              39       1\n",
       "6737   42.0          4   50018.0  ...            40.0               0       1\n",
       "41284  51.0          4  250423.0  ...            40.0              39       1\n",
       "38034  19.0          0  255117.0  ...            30.0              39       1\n",
       "31996  40.0          6  170866.0  ...            50.0              39       0\n",
       "\n",
       "[34190 rows x 15 columns]"
      ]
     },
     "metadata": {},
     "output_type": "display_data"
    }
   ],
   "source": [
    "py\"\"\"\n",
    "from sklearn.model_selection import train_test_split\n",
    "\"\"\"\n",
    "train,test = py\"train_test_split\"(pydf,test_size=0.7)"
   ]
  },
  {
   "cell_type": "code",
   "execution_count": 16,
   "metadata": {},
   "outputs": [
    {
     "data": {
      "text/plain": [
       "PyObject <class 'pandas.core.frame.DataFrame'>"
      ]
     },
     "metadata": {},
     "output_type": "display_data"
    }
   ],
   "source": [
    "py\"type\"(train)"
   ]
  },
  {
   "cell_type": "code",
   "execution_count": 18,
   "metadata": {},
   "outputs": [
    {
     "data": {
      "text/plain": [
       "(PyObject         age  workclass    fnlwgt  ...  capital-loss  hours-per-week  native-country\n",
       "7169   54.0          4   94055.0  ...           0.0            40.0              39\n",
       "37781  30.0          4  203488.0  ...           0.0            60.0              39\n",
       "6228   24.0          4  336088.0  ...           0.0            50.0              39\n",
       "22027  25.0          4  189850.0  ...           0.0            40.0              39\n",
       "4887   33.0          1  159548.0  ...           0.0            40.0              39\n",
       "...     ...        ...       ...  ...           ...             ...             ...\n",
       "26530  38.0          6   65716.0  ...           0.0            40.0              39\n",
       "6737   42.0          4   50018.0  ...           0.0            40.0               0\n",
       "41284  51.0          4  250423.0  ...           0.0            40.0              39\n",
       "38034  19.0          0  255117.0  ...           0.0            30.0              39\n",
       "31996  40.0          6  170866.0  ...           0.0            50.0              39\n",
       "\n",
       "[34190 rows x 14 columns], PyObject 7169     1\n",
       "37781    1\n",
       "6228     1\n",
       "22027    1\n",
       "4887     1\n",
       "        ..\n",
       "26530    1\n",
       "6737     1\n",
       "41284    1\n",
       "38034    1\n",
       "31996    0\n",
       "Name: target, Length: 34190, dtype: int64)"
      ]
     },
     "metadata": {},
     "output_type": "display_data"
    }
   ],
   "source": [
    "# trainはPyObjectなので、pythonから基本的には操作すれば良い。\n",
    "py\"\"\"\n",
    "import pandas as pd\n",
    "def X_y(data):\n",
    "    X = data.iloc[:,:-1]\n",
    "    y = data.iloc[:,-1]\n",
    "    return X,y\n",
    "\"\"\"\n",
    "X_train, y_train = py\"X_y\"(train)\n",
    "X_test, y_test = py\"X_y\"(test)"
   ]
  },
  {
   "cell_type": "code",
   "execution_count": 50,
   "metadata": {},
   "outputs": [
    {
     "data": {
      "text/html": [
       "7169     1\n",
       "37781    1\n",
       "6228     1\n",
       "22027    1\n",
       "4887     1\n",
       "        ..\n",
       "26530    1\n",
       "6737     1\n",
       "41284    1\n",
       "38034    1\n",
       "31996    0\n",
       "Name: target, Length: 34190, dtype: int64\n"
      ],
      "text/plain": [
       "7169     1\n",
       "37781    1\n",
       "6228     1\n",
       "22027    1\n",
       "4887     1\n",
       "        ..\n",
       "26530    1\n",
       "6737     1\n",
       "41284    1\n",
       "38034    1\n",
       "31996    0\n",
       "Name: target, Length: 34190, dtype: int64\n"
      ]
     },
     "metadata": {},
     "output_type": "display_data"
    }
   ],
   "source": [
    "# Pandas.jlでやろうとするとこうなる。\n",
    "# 末尾を指定できないので、shapeから持ってくる\n",
    "py\"\"\"\n",
    "def shape(data):\n",
    "    return data.shape\n",
    "\"\"\"\n",
    "_, col_num = py\"shape\"(pydf)\n",
    "\n",
    "X_train_pd = iloc(Pandas.DataFrame(train))[:,1:col_num-1]\n",
    "y_train_pd = iloc(Pandas.DataFrame(train))[:,col_num]\n",
    "X_test_pd = iloc(Pandas.DataFrame(test))[:,1:col_num-1]\n",
    "y_test_pd = iloc(Pandas.DataFrame(test))[:,col_num]"
   ]
  },
  {
   "cell_type": "code",
   "execution_count": 51,
   "metadata": {},
   "outputs": [
    {
     "data": {
      "text/plain": [
       "0.8642585551330798"
      ]
     },
     "metadata": {},
     "output_type": "display_data"
    }
   ],
   "source": [
    "py\"\"\"\n",
    "from sklearn.ensemble import GradientBoostingClassifier\n",
    "from sklearn.metrics import accuracy_score\n",
    "\n",
    "def fit_predict_score(X_train,y_train,X_test,y_test):\n",
    "    gbc = GradientBoostingClassifier()\n",
    "    gbc.fit(X_train,y_train)\n",
    "    y_pred = gbc.predict(X_test)\n",
    "    score = accuracy_score(y_pred, y_test)\n",
    "    return score\n",
    "\"\"\"\n",
    "score = py\"fit_predict_score\"(X_train,y_train,X_test,y_test)"
   ]
  },
  {
   "cell_type": "code",
   "execution_count": 52,
   "metadata": {},
   "outputs": [
    {
     "data": {
      "text/plain": [
       "0.8642000584966364"
      ]
     },
     "metadata": {},
     "output_type": "display_data"
    }
   ],
   "source": [
    "score_pd = py\"fit_predict_score\"(X_train_pd, y_train_pd, X_test_pd, y_test_pd)"
   ]
  }
 ],
 "metadata": {
  "kernelspec": {
   "display_name": "Julia 1.8.4",
   "language": "julia",
   "name": "julia-1.8"
  },
  "language_info": {
   "file_extension": ".jl",
   "mimetype": "application/julia",
   "name": "julia",
   "version": "1.8.4"
  },
  "orig_nbformat": 4
 },
 "nbformat": 4,
 "nbformat_minor": 2
}
