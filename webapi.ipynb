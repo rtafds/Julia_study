{
 "cells": [
  {
   "attachments": {},
   "cell_type": "markdown",
   "metadata": {},
   "source": [
    "## WebAPIリスト\n",
    "### 公式\n",
    "https://github.com/JuliaWeb/JuliaWebAPI.jl  \n",
    "https://github.com/JuliaWeb/HTTP.jl  \n",
    "\n",
    "### その他\n",
    "https://github.com/eliascarv/WebAPI.jl  \n",
    "https://github.com/GenieFramework/Genie.jl  \n",
    "https://github.com/ndortega/Oxygen.jl : ほぼfastAPI。つよい。  \n",
    "\n",
    "### websocket\n",
    "https://github.com/JuliaWeb/WebSockets.jl"
   ]
  },
  {
   "cell_type": "code",
   "execution_count": 1,
   "metadata": {},
   "outputs": [
    {
     "name": "stderr",
     "output_type": "stream",
     "text": [
      "\u001b[32m\u001b[1m    Updating\u001b[22m\u001b[39m registry at `~/.julia/registries/General.toml`\n",
      "\u001b[32m\u001b[1m   Resolving\u001b[22m\u001b[39m package versions...\n",
      "\u001b[32m\u001b[1m  No Changes\u001b[22m\u001b[39m to `~/.julia/environments/v1.8/Project.toml`\n",
      "\u001b[32m\u001b[1m  No Changes\u001b[22m\u001b[39m to `~/.julia/environments/v1.8/Manifest.toml`\n",
      "\u001b[32m\u001b[1m   Resolving\u001b[22m\u001b[39m package versions...\n",
      "\u001b[32m\u001b[1m   Installed\u001b[22m\u001b[39m LoggingExtras ──── v0.4.9\n",
      "\u001b[32m\u001b[1m   Installed\u001b[22m\u001b[39m JuliaWebAPI ────── v0.6.3\n",
      "\u001b[32m\u001b[1m   Installed\u001b[22m\u001b[39m LogExpFunctions ── v0.3.21\n",
      "\u001b[32m\u001b[1m   Installed\u001b[22m\u001b[39m JuliaInterpreter ─ v0.9.21\n",
      "\u001b[32m\u001b[1m   Installed\u001b[22m\u001b[39m HTTP ───────────── v0.9.17\n",
      "\u001b[32m\u001b[1m   Installed\u001b[22m\u001b[39m Oxygen ─────────── v1.0.10\n",
      "\u001b[33m\u001b[1m┌ \u001b[22m\u001b[39m\u001b[33m\u001b[1mWarning: \u001b[22m\u001b[39mtarball content does not match git-tree-sha1\n",
      "\u001b[33m\u001b[1m└ \u001b[22m\u001b[39m\u001b[90m@ Pkg.Operations /Users/julia/.julia/scratchspaces/a66863c6-20e8-4ff4-8a62-49f30b1f605e/agent-cache/default-macmini-aarch64-4.0/build/default-macmini-aarch64-4-0/julialang/julia-release-1-dot-8/usr/share/julia/stdlib/v1.8/Pkg/src/Operations.jl:556\u001b[39m\n",
      "\u001b[33m\u001b[1m┌ \u001b[22m\u001b[39m\u001b[33m\u001b[1mWarning: \u001b[22m\u001b[39mtarball content does not match git-tree-sha1\n",
      "\u001b[33m\u001b[1m└ \u001b[22m\u001b[39m\u001b[90m@ Pkg.Operations /Users/julia/.julia/scratchspaces/a66863c6-20e8-4ff4-8a62-49f30b1f605e/agent-cache/default-macmini-aarch64-4.0/build/default-macmini-aarch64-4-0/julialang/julia-release-1-dot-8/usr/share/julia/stdlib/v1.8/Pkg/src/Operations.jl:556\u001b[39m\n",
      "\u001b[32m\u001b[1m     Cloning\u001b[22m\u001b[39m [c43c736e-a2d1-11e8-161f-af95117fbd1e] Genie from https://github.com/GenieFramework/Genie.jl.git\n",
      "\u001b[32m\u001b[1m   Installed\u001b[22m\u001b[39m Genie ──────────── v5.2.2\n",
      "\u001b[32m\u001b[1m    Updating\u001b[22m\u001b[39m `~/.julia/environments/v1.8/Project.toml`\n",
      "\u001b[32m⌃\u001b[39m\u001b[90m [c43c736e] \u001b[39m\u001b[95m↓ Genie v5.15.0 ⇒ v5.2.2\u001b[39m\n",
      "\u001b[33m⌅\u001b[39m\u001b[90m [cd3eb016] \u001b[39m\u001b[95m↓ HTTP v1.7.4 ⇒ v0.9.17\u001b[39m\n",
      " \u001b[90m [480116ec] \u001b[39m\u001b[92m+ JuliaWebAPI v0.6.3\u001b[39m\n",
      "\u001b[32m⌃\u001b[39m\u001b[90m [df9a0d86] \u001b[39m\u001b[95m↓ Oxygen v1.1.4 ⇒ v1.0.10\u001b[39m\n",
      "\u001b[32m\u001b[1m    Updating\u001b[22m\u001b[39m `~/.julia/environments/v1.8/Manifest.toml`\n",
      " \u001b[90m [d1d4a3ce] \u001b[39m\u001b[91m- BitFlags v0.1.7\u001b[39m\n",
      " \u001b[90m [34da2185] \u001b[39m\u001b[93m↑ Compat v4.5.0 ⇒ v4.6.0\u001b[39m\n",
      " \u001b[90m [4dc1fcf4] \u001b[39m\u001b[91m- DotEnv v0.3.1\u001b[39m\n",
      "\u001b[32m⌃\u001b[39m\u001b[90m [c43c736e] \u001b[39m\u001b[95m↓ Genie v5.15.0 ⇒ v5.2.2\u001b[39m\n",
      "\u001b[33m⌅\u001b[39m\u001b[90m [cd3eb016] \u001b[39m\u001b[95m↓ HTTP v1.7.4 ⇒ v0.9.17\u001b[39m\n",
      " \u001b[90m [aa1ae85d] \u001b[39m\u001b[93m↑ JuliaInterpreter v0.9.20 ⇒ v0.9.21\u001b[39m\n",
      " \u001b[90m [480116ec] \u001b[39m\u001b[92m+ JuliaWebAPI v0.6.3\u001b[39m\n",
      " \u001b[90m [2ab3a3ac] \u001b[39m\u001b[93m↑ LogExpFunctions v0.3.20 ⇒ v0.3.21\u001b[39m\n",
      "\u001b[33m⌅\u001b[39m\u001b[90m [e6f89c97] \u001b[39m\u001b[95m↓ LoggingExtras v1.0.0 ⇒ v0.4.9\u001b[39m\n",
      " \u001b[90m [4d8831e6] \u001b[39m\u001b[91m- OpenSSL v1.3.3\u001b[39m\n",
      "\u001b[32m⌃\u001b[39m\u001b[90m [df9a0d86] \u001b[39m\u001b[95m↓ Oxygen v1.1.4 ⇒ v1.0.10\u001b[39m\n",
      " \u001b[90m [69de0a69] \u001b[39m\u001b[93m↑ Parsers v2.5.2 ⇒ v2.5.4\u001b[39m\n",
      " \u001b[90m [777ac1f9] \u001b[39m\u001b[91m- SimpleBufferStream v1.1.0\u001b[39m\n",
      " \u001b[90m [66db9d55] \u001b[39m\u001b[93m↑ SnoopPrecompile v1.0.1 ⇒ v1.0.3\u001b[39m\n",
      " \u001b[90m [458c3c95] \u001b[39m\u001b[91m- OpenSSL_jll v1.1.19+0\u001b[39m\n",
      "\u001b[36m\u001b[1m        Info\u001b[22m\u001b[39m Packages marked with \u001b[32m⌃\u001b[39m and \u001b[33m⌅\u001b[39m have new versions available, but those with \u001b[33m⌅\u001b[39m are restricted by compatibility constraints from upgrading. To see why use `status --outdated -m`\n",
      "\u001b[32m\u001b[1mPrecompiling\u001b[22m\u001b[39m project...\n",
      "\u001b[32m  ✓ \u001b[39m\u001b[90mLoggingExtras\u001b[39m\n",
      "\u001b[32m  ✓ \u001b[39mHTTP\n",
      "\u001b[33m  ? \u001b[39mOxygen\n",
      "\u001b[32m  ✓ \u001b[39m\u001b[90mLogExpFunctions\u001b[39m\n",
      "\u001b[32m  ✓ \u001b[39mJuliaWebAPI\n",
      "\u001b[32m  ✓ \u001b[39m\u001b[90mJuliaInterpreter\u001b[39m\n",
      "\u001b[32m  ✓ \u001b[39m\u001b[90mStatsBase\u001b[39m\n",
      "\u001b[32m  ✓ \u001b[39m\u001b[90mSpecialFunctions\u001b[39m\n",
      "\u001b[32m  ✓ \u001b[39m\u001b[90mDiffRules\u001b[39m\n",
      "\u001b[32m  ✓ \u001b[39m\u001b[90mLoweredCodeUtils\u001b[39m\n",
      "\u001b[32m  ✓ \u001b[39m\u001b[90mForwardDiff\u001b[39m\n",
      "\u001b[32m  ✓ \u001b[39m\u001b[90mRevise\u001b[39m\n",
      "\u001b[32m  ✓ \u001b[39m\u001b[90mNLSolversBase\u001b[39m\n",
      "\u001b[32m  ✓ \u001b[39m\u001b[90mLineSearches\u001b[39m\n",
      "\u001b[32m  ✓ \u001b[39mGenie\n",
      "\u001b[32m  ✓ \u001b[39mOptim\n",
      "\u001b[32m  ✓ \u001b[39mMetrics\n",
      "\u001b[32m  ✓ \u001b[39m\u001b[90mMathOptInterface\u001b[39m\n",
      "\u001b[32m  ✓ \u001b[39mCbc\n",
      "\u001b[32m  ✓ \u001b[39mClp\n",
      "\u001b[32m  ✓ \u001b[39mJuMP\n",
      "  20 dependencies successfully precompiled in 47 seconds. 113 already precompiled.\n",
      "  \u001b[33m1\u001b[39m dependency failed but may be precompilable after restarting julia\n"
     ]
    },
    {
     "ename": "LoadError",
     "evalue": "The following package names could not be resolved:\n * WebAPI (not found in project, manifest or registry)\n\u001b[36m   Suggestions:\u001b[39m Julia\u001b[0m\u001b[1mW\u001b[22m\u001b[0m\u001b[1me\u001b[22m\u001b[0m\u001b[1mb\u001b[22m\u001b[0m\u001b[1mA\u001b[22m\u001b[0m\u001b[1mP\u001b[22m\u001b[0m\u001b[1mI\u001b[22m SimpleAibo\u001b[0m\u001b[1mW\u001b[22m\u001b[0m\u001b[1me\u001b[22m\u001b[0m\u001b[1mb\u001b[22m\u001b[0m\u001b[1mA\u001b[22m\u001b[0m\u001b[1mP\u001b[22m\u001b[0m\u001b[1mI\u001b[22m",
     "output_type": "error",
     "traceback": [
      "The following package names could not be resolved:\n * WebAPI (not found in project, manifest or registry)\n\u001b[36m   Suggestions:\u001b[39m Julia\u001b[0m\u001b[1mW\u001b[22m\u001b[0m\u001b[1me\u001b[22m\u001b[0m\u001b[1mb\u001b[22m\u001b[0m\u001b[1mA\u001b[22m\u001b[0m\u001b[1mP\u001b[22m\u001b[0m\u001b[1mI\u001b[22m SimpleAibo\u001b[0m\u001b[1mW\u001b[22m\u001b[0m\u001b[1me\u001b[22m\u001b[0m\u001b[1mb\u001b[22m\u001b[0m\u001b[1mA\u001b[22m\u001b[0m\u001b[1mP\u001b[22m\u001b[0m\u001b[1mI\u001b[22m",
      "",
      "Stacktrace:",
      "  [1] pkgerror(msg::String)",
      "    @ Pkg.Types /Applications/Julia-1.8.app/Contents/Resources/julia/share/julia/stdlib/v1.8/Pkg/src/Types.jl:67",
      "  [2] ensure_resolved(ctx::Pkg.Types.Context, manifest::Pkg.Types.Manifest, pkgs::Vector{Pkg.Types.PackageSpec}; registry::Bool)",
      "    @ Pkg.Types /Applications/Julia-1.8.app/Contents/Resources/julia/share/julia/stdlib/v1.8/Pkg/src/Types.jl:952",
      "  [3] add(ctx::Pkg.Types.Context, pkgs::Vector{Pkg.Types.PackageSpec}; preserve::Pkg.Types.PreserveLevel, platform::Base.BinaryPlatforms.Platform, kwargs::Base.Pairs{Symbol, IJulia.IJuliaStdio{Base.PipeEndpoint}, Tuple{Symbol}, NamedTuple{(:io,), Tuple{IJulia.IJuliaStdio{Base.PipeEndpoint}}}})",
      "    @ Pkg.API /Applications/Julia-1.8.app/Contents/Resources/julia/share/julia/stdlib/v1.8/Pkg/src/API.jl:264",
      "  [4] add(pkgs::Vector{Pkg.Types.PackageSpec}; io::IJulia.IJuliaStdio{Base.PipeEndpoint}, kwargs::Base.Pairs{Symbol, Union{}, Tuple{}, NamedTuple{(), Tuple{}}})",
      "    @ Pkg.API /Applications/Julia-1.8.app/Contents/Resources/julia/share/julia/stdlib/v1.8/Pkg/src/API.jl:156",
      "  [5] add(pkgs::Vector{Pkg.Types.PackageSpec})",
      "    @ Pkg.API /Applications/Julia-1.8.app/Contents/Resources/julia/share/julia/stdlib/v1.8/Pkg/src/API.jl:145",
      "  [6] #add#27",
      "    @ /Applications/Julia-1.8.app/Contents/Resources/julia/share/julia/stdlib/v1.8/Pkg/src/API.jl:144 [inlined]",
      "  [7] add",
      "    @ /Applications/Julia-1.8.app/Contents/Resources/julia/share/julia/stdlib/v1.8/Pkg/src/API.jl:144 [inlined]",
      "  [8] #add#26",
      "    @ /Applications/Julia-1.8.app/Contents/Resources/julia/share/julia/stdlib/v1.8/Pkg/src/API.jl:143 [inlined]",
      "  [9] add(pkg::String)",
      "    @ Pkg.API /Applications/Julia-1.8.app/Contents/Resources/julia/share/julia/stdlib/v1.8/Pkg/src/API.jl:143",
      " [10] top-level scope",
      "    @ In[1]:5"
     ]
    }
   ],
   "source": [
    "# install\n",
    "using Pkg\n",
    "Pkg.add(\"HTTP\")\n",
    "Pkg.add(\"Oxygen\")\n",
    "Pkg.add(\"StructTypes\")\n",
    "Pkg.add(\"JSON3\")\n",
    "Pkg.add(\"SwaggerMarkdown\")"
   ]
  },
  {
   "cell_type": "code",
   "execution_count": null,
   "metadata": {},
   "outputs": [],
   "source": [
    "# if use Asynchronous processing, use https://github.com/JuliaParallel/Dagger.jl\n",
    "Pkg.add(\"Dagger\")"
   ]
  },
  {
   "cell_type": "code",
   "execution_count": null,
   "metadata": {},
   "outputs": [],
   "source": [
    "# use Ginie\n",
    "Pkg.add(\"Genie\")"
   ]
  },
  {
   "attachments": {},
   "cell_type": "markdown",
   "metadata": {},
   "source": [
    "基本的に、HTTPSは元々のHTTP.jlが対応しているので、Oxygen.jlでも使える。  \n",
    "しかし、Genieは公式にサポートして、ドキュメントも充実している。  \n",
    "安定感を求めるなら、Genie.jl。fastAPIライクに書きたければ、Oxygen.jl を使うのが良さげ"
   ]
  },
  {
   "attachments": {},
   "cell_type": "markdown",
   "metadata": {},
   "source": [
    "### 依存関係\n",
    "Pkg.add(\"JuliaWebAPI\"): Oxygenと併用すると、依存関係のバグでOxygenの方でdocsが生成されなくなる。  \n",
    "Pkg.add(\"WebAPI\"): 機能しない  \n",
    "Pkg.add(\"Genie\"): 同時に入れても問題なし。"
   ]
  }
 ],
 "metadata": {
  "kernelspec": {
   "display_name": "Julia 1.8.4",
   "language": "julia",
   "name": "julia-1.8"
  },
  "language_info": {
   "file_extension": ".jl",
   "mimetype": "application/julia",
   "name": "julia",
   "version": "1.8.4"
  },
  "orig_nbformat": 4
 },
 "nbformat": 4,
 "nbformat_minor": 2
}
