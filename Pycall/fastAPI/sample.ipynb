{
 "cells": [
  {
   "cell_type": "code",
   "execution_count": 1,
   "metadata": {},
   "outputs": [
    {
     "name": "stderr",
     "output_type": "stream",
     "text": [
      "\u001b[36m\u001b[1m[ \u001b[22m\u001b[39m\u001b[36m\u001b[1mInfo: \u001b[22m\u001b[39mRunning `conda install -y pydantic` in root environment\n"
     ]
    },
    {
     "name": "stdout",
     "output_type": "stream",
     "text": [
      "Retrieving notices: ...working... done\n",
      "Collecting package metadata (current_repodata.json): ...working... done\n",
      "Solving environment: ...working... done\n",
      "\n",
      "## Package Plan ##\n",
      "\n",
      "  environment location: /Users/smamitsu/.julia/conda/3\n",
      "\n",
      "  added / updated specs:\n",
      "    - pydantic\n",
      "\n",
      "\n",
      "The following packages will be downloaded:\n",
      "\n",
      "    package                    |            build\n",
      "    ---------------------------|-----------------\n",
      "    openssl-3.0.8              |       h03a7124_0         2.0 MB  conda-forge\n",
      "    pydantic-1.10.4            |  py310h8e9501a_1         1.7 MB  conda-forge\n",
      "    ------------------------------------------------------------\n",
      "                                           Total:         3.7 MB\n",
      "\n",
      "The following NEW packages will be INSTALLED:\n",
      "\n",
      "  pydantic           conda-forge/osx-arm64::pydantic-1.10.4-py310h8e9501a_1 \n",
      "\n",
      "The following packages will be UPDATED:\n",
      "\n",
      "  openssl                                  3.0.7-h03a7124_2 --> 3.0.8-h03a7124_0 \n",
      "\n",
      "\n",
      "\n",
      "Downloading and Extracting Packages\n",
      "pydantic-1.10.4      | 1.7 MB    |                                      |   0% \n",
      "openssl-3.0.8        | 2.0 MB    |                                      |   0% \u001b[A\n",
      "openssl-3.0.8        | 2.0 MB    | 2                                    |   1% \u001b[A\n",
      "openssl-3.0.8        | 2.0 MB    | ########1                            |  23% \u001b[A\n",
      "openssl-3.0.8        | 2.0 MB    | #################9                   |  50% \u001b[A\n",
      "pydantic-1.10.4      | 1.7 MB    | 3                                    |   1% \u001b[A\n",
      "                                                                               \u001b[A\n",
      "                                                                               \u001b[A\n",
      "Preparing transaction: ...working... done\n",
      "Verifying transaction: ...working... done\n",
      "Executing transaction: ...working... done\n"
     ]
    },
    {
     "name": "stderr",
     "output_type": "stream",
     "text": [
      "\u001b[36m\u001b[1m[ \u001b[22m\u001b[39m\u001b[36m\u001b[1mInfo: \u001b[22m\u001b[39mRunning `conda install -y fastapi` in root environment\n"
     ]
    },
    {
     "name": "stdout",
     "output_type": "stream",
     "text": [
      "Collecting package metadata (current_repodata.json): ...working... done\n",
      "Solving environment: ...working... done\n",
      "\n",
      "## Package Plan ##\n",
      "\n",
      "  environment location: /Users/smamitsu/.julia/conda/3\n",
      "\n",
      "  added / updated specs:\n",
      "    - fastapi\n",
      "\n",
      "\n",
      "The following packages will be downloaded:\n",
      "\n",
      "    package                    |            build\n",
      "    ---------------------------|-----------------\n",
      "    anyio-3.6.2                |     pyhd8ed1ab_0          83 KB  conda-forge\n",
      "    fastapi-0.89.1             |     pyhd8ed1ab_0          47 KB  conda-forge\n",
      "    sniffio-1.3.0              |     pyhd8ed1ab_0          14 KB  conda-forge\n",
      "    starlette-0.22.0           |     pyhd8ed1ab_0          48 KB  conda-forge\n",
      "    ------------------------------------------------------------\n",
      "                                           Total:         193 KB\n",
      "\n",
      "The following NEW packages will be INSTALLED:\n",
      "\n",
      "  anyio              conda-forge/noarch::anyio-3.6.2-pyhd8ed1ab_0 \n",
      "  fastapi            conda-forge/noarch::fastapi-0.89.1-pyhd8ed1ab_0 \n",
      "  sniffio            conda-forge/noarch::sniffio-1.3.0-pyhd8ed1ab_0 \n",
      "  starlette          conda-forge/noarch::starlette-0.22.0-pyhd8ed1ab_0 \n",
      "\n",
      "\n",
      "\n",
      "Downloading and Extracting Packages\n",
      "starlette-0.22.0     | 48 KB     |                                      |   0% \n",
      "fastapi-0.89.1       | 47 KB     |                                      |   0% \u001b[A\n",
      "\n",
      "sniffio-1.3.0        | 14 KB     |                                      |   0% \u001b[A\u001b[A\n",
      "\n",
      "\n",
      "anyio-3.6.2          | 83 KB     |                                      |   0% \u001b[A\u001b[A\u001b[A\n",
      "\n",
      "sniffio-1.3.0        | 14 KB     | #################################### | 100% \u001b[A\u001b[A\n",
      "\n",
      "\n",
      "starlette-0.22.0     | 48 KB     | ###########9                         |  33% \u001b[A\u001b[A\u001b[A\n",
      "fastapi-0.89.1       | 47 KB     | ############2                        |  34% \u001b[A\n",
      "\n",
      "starlette-0.22.0     | 48 KB     | #################################### | 100% \u001b[A\u001b[A\n",
      "fastapi-0.89.1       | 47 KB     | #################################### | 100% \u001b[A\n",
      "\n",
      "\n",
      "anyio-3.6.2          | 83 KB     | #################################### | 100% \u001b[A\u001b[A\u001b[A\n",
      "\n",
      "\n",
      "                                                                               \u001b[A\u001b[A\u001b[A\n",
      "                                                                               \u001b[A\n",
      "\n",
      "                                                                               \u001b[A\u001b[A\n",
      "\n",
      "\n",
      "                                                                               \u001b[A\u001b[A\u001b[A\n",
      "Preparing transaction: ...working... done\n",
      "Verifying transaction: ...working... done\n",
      "Executing transaction: ...working... done\n"
     ]
    }
   ],
   "source": [
    "using Conda\n",
    "Conda.add(\"pydantic\")\n",
    "Conda.add(\"fastapi\")\n",
    "Conda.add(\"uvicorn[standard]\")"
   ]
  },
  {
   "cell_type": "code",
   "execution_count": 3,
   "metadata": {},
   "outputs": [
    {
     "name": "stderr",
     "output_type": "stream",
     "text": [
      "\u001b[36m\u001b[1m[ \u001b[22m\u001b[39m\u001b[36m\u001b[1mInfo: \u001b[22m\u001b[39mPrecompiling PyCall [438e738f-606a-5dbb-bf0a-cddfbfd45ab0]\n"
     ]
    }
   ],
   "source": [
    "using PyCall"
   ]
  },
  {
   "cell_type": "code",
   "execution_count": 9,
   "metadata": {},
   "outputs": [
    {
     "name": "stderr",
     "output_type": "stream",
     "text": [
      "INFO:     Started server process [18779]\n",
      "INFO:     Waiting for application startup.\n",
      "INFO:     Application startup complete.\n",
      "INFO:     Uvicorn running on http://0.0.0.0:8000 (Press CTRL+C to quit)\n",
      "INFO:     Shutting down\n",
      "INFO:     Waiting for application shutdown.\n",
      "INFO:     Application shutdown complete.\n",
      "INFO:     Finished server process [18779]\n"
     ]
    }
   ],
   "source": [
    "# pycallで動かしてみる。\n",
    "py\"\"\"\n",
    "from fastapi import FastAPI\n",
    "import uvicorn\n",
    "\n",
    "app = FastAPI()\n",
    "\n",
    "\n",
    "@app.get(\"/\")\n",
    "async def read_root():\n",
    "    return {\"Hello\": \"World\"}\n",
    "\n",
    "if __name__ == \"__main__\":\n",
    "    uvicorn.run(app, host=\"0.0.0.0\", port=8000, log_level=\"info\")\n",
    "\"\"\""
   ]
  },
  {
   "cell_type": "code",
   "execution_count": 13,
   "metadata": {},
   "outputs": [
    {
     "name": "stdout",
     "output_type": "stream",
     "text": [
      "INFO:     127.0.0.1:61115 - \"GET /docs HTTP/1.1\" 200 OK\n",
      "INFO:     127.0.0.1:61115 - \"GET /openapi.json HTTP/1.1\" 200 OK\n",
      "INFO:     127.0.0.1:61115 - \"GET / HTTP/1.1\" 200 OK\n"
     ]
    },
    {
     "name": "stderr",
     "output_type": "stream",
     "text": [
      "INFO:     Started server process [18779]\n",
      "INFO:     Waiting for application startup.\n",
      "INFO:     Application startup complete.\n",
      "INFO:     Uvicorn running on http://0.0.0.0:8000 (Press CTRL+C to quit)\n",
      "INFO:     Shutting down\n",
      "INFO:     Waiting for application shutdown.\n",
      "INFO:     Application shutdown complete.\n",
      "INFO:     Finished server process [18779]\n"
     ]
    }
   ],
   "source": [
    "# https://blog.goo.ne.jp/r-de-r/e/da572ea132c1616d682a2e400d31d657\n",
    "# Juliaの変数を使って動かしたい場合はこうする。\n",
    "\n",
    "x = \"World\"\n",
    "\n",
    "py\"\"\"\n",
    "from fastapi import FastAPI\n",
    "import uvicorn\n",
    "\n",
    "app = FastAPI()\n",
    "\n",
    "\n",
    "@app.get(\"/\")\n",
    "async def read_root():\n",
    "    return {\"Hello\": $x}\n",
    "\n",
    "if __name__ == \"__main__\":\n",
    "    uvicorn.run(app, host=\"0.0.0.0\", port=8000, log_level=\"info\")\n",
    "\"\"\""
   ]
  }
 ],
 "metadata": {
  "kernelspec": {
   "display_name": "Julia 1.8.4",
   "language": "julia",
   "name": "julia-1.8"
  },
  "language_info": {
   "file_extension": ".jl",
   "mimetype": "application/julia",
   "name": "julia",
   "version": "1.8.4"
  },
  "orig_nbformat": 4
 },
 "nbformat": 4,
 "nbformat_minor": 2
}
