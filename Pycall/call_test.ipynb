{
 "cells": [
  {
   "attachments": {},
   "cell_type": "markdown",
   "metadata": {},
   "source": [
    "### test.pyをjuliaから呼び出して使いたい\n",
    "https://discourse.julialang.org/t/how-to-run-an-entire-python-script-in-pycall/73414/10"
   ]
  },
  {
   "cell_type": "code",
   "execution_count": 1,
   "metadata": {},
   "outputs": [],
   "source": [
    "using PyCall"
   ]
  },
  {
   "cell_type": "code",
   "execution_count": 2,
   "metadata": {},
   "outputs": [
    {
     "ename": "PyCall.PyError",
     "evalue": "PyError ($(Expr(:escape, :(ccall(#= /Users/smamitsu/.julia/packages/PyCall/twYvK/src/pyeval.jl:38 =# @pysym(:PyEval_EvalCode), PyPtr, (PyPtr, PyPtr, PyPtr), o, globals, locals))))) <class 'ImportError'>\nImportError(\"cannot import name 'add' from 'test' (/Users/smamitsu/.julia/conda/3/lib/python3.10/test/__init__.py)\")\n  File \"/Users/smamitsu/.julia/packages/PyCall/twYvK/src/pyeval.jl\", line 1, in <module>\n    const Py_single_input = 256  # from Python.h\n",
     "output_type": "error",
     "traceback": [
      "PyError ($(Expr(:escape, :(ccall(#= /Users/smamitsu/.julia/packages/PyCall/twYvK/src/pyeval.jl:38 =# @pysym(:PyEval_EvalCode), PyPtr, (PyPtr, PyPtr, PyPtr), o, globals, locals))))) <class 'ImportError'>\n",
      "ImportError(\"cannot import name 'add' from 'test' (/Users/smamitsu/.julia/conda/3/lib/python3.10/test/__init__.py)\")\n",
      "  File \"/Users/smamitsu/.julia/packages/PyCall/twYvK/src/pyeval.jl\", line 1, in <module>\n",
      "    const Py_single_input = 256  # from Python.h\n",
      "\n",
      "\n",
      "Stacktrace:\n",
      " [1] pyerr_check\n",
      "   @ ~/.julia/packages/PyCall/twYvK/src/exception.jl:75 [inlined]\n",
      " [2] pyerr_check\n",
      "   @ ~/.julia/packages/PyCall/twYvK/src/exception.jl:79 [inlined]\n",
      " [3] _handle_error(msg::String)\n",
      "   @ PyCall ~/.julia/packages/PyCall/twYvK/src/exception.jl:96\n",
      " [4] macro expansion\n",
      "   @ ~/.julia/packages/PyCall/twYvK/src/exception.jl:110 [inlined]\n",
      " [5] #117\n",
      "   @ ~/.julia/packages/PyCall/twYvK/src/pyeval.jl:38 [inlined]\n",
      " [6] disable_sigint\n",
      "   @ ./c.jl:473 [inlined]\n",
      " [7] pyeval_(s::String, globals::PyDict{String, PyObject, true}, locals::PyDict{String, PyObject, true}, input_type::Int64, fname::String)\n",
      "   @ PyCall ~/.julia/packages/PyCall/twYvK/src/pyeval.jl:37\n",
      " [8] top-level scope\n",
      "   @ ~/.julia/packages/PyCall/twYvK/src/pyeval.jl:230"
     ]
    }
   ],
   "source": [
    "# 今のところこれだとできない。\n",
    "py\"\"\"\n",
    "from test import add\n",
    "\"\"\"\n",
    "py\"add\"(3,5)"
   ]
  },
  {
   "cell_type": "code",
   "execution_count": 3,
   "metadata": {},
   "outputs": [
    {
     "data": {
      "text/plain": [
       "8"
      ]
     },
     "metadata": {},
     "output_type": "display_data"
    }
   ],
   "source": [
    "# テキストを読み込む\n",
    "py\"\"\"\n",
    "$$(read(\"test.py\", String))\n",
    "\"\"\"\n",
    "py\"add\"(3,5)"
   ]
  }
 ],
 "metadata": {
  "kernelspec": {
   "display_name": "Julia 1.8.4",
   "language": "julia",
   "name": "julia-1.8"
  },
  "language_info": {
   "file_extension": ".jl",
   "mimetype": "application/julia",
   "name": "julia",
   "version": "1.8.4"
  },
  "orig_nbformat": 4
 },
 "nbformat": 4,
 "nbformat_minor": 2
}
