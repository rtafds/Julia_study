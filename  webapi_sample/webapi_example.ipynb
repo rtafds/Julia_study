{
 "cells": [
  {
   "attachments": {},
   "cell_type": "markdown",
   "metadata": {},
   "source": [
    "https://github.com/GenieFramework/Genie.jl  \n",
    "https://github.com/eliascarv/WebAPI.jl  \n"
   ]
  }
 ],
 "metadata": {
  "language_info": {
   "name": "python"
  },
  "orig_nbformat": 4
 },
 "nbformat": 4,
 "nbformat_minor": 2
}
