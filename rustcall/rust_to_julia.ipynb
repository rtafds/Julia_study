{
 "cells": [
  {
   "attachments": {},
   "cell_type": "markdown",
   "metadata": {},
   "source": [
    "### rustをJuliaから呼び出す\n",
    "https://github.com/alexcrichton/rust-ffi-examples"
   ]
  },
  {
   "attachments": {},
   "cell_type": "markdown",
   "metadata": {},
   "source": [
    "### rustのインストール\n",
    "https://qiita.com/notakaos/items/9f3ee8a3f3a0caf39f7b  \n",
    "https://www.rust-lang.org/ja/tools/install\n",
    "### ターミナルで実行\n",
    "```curl --proto '=https' --tlsv1.2 -sSf https://sh.rustup.rs | sh```"
   ]
  },
  {
   "cell_type": "code",
   "execution_count": 1,
   "metadata": {},
   "outputs": [
    {
     "name": "stdout",
     "output_type": "stream",
     "text": [
      "julia src/main.jl\n"
     ]
    },
    {
     "name": "stdout",
     "output_type": "stream",
     "text": [
      "10 * 2 = 20\n"
     ]
    },
    {
     "data": {
      "text/plain": [
       "Process(`\u001b[4mmake\u001b[24m`, ProcessExited(0))"
      ]
     },
     "metadata": {},
     "output_type": "display_data"
    }
   ],
   "source": [
    "run(`make`)"
   ]
  },
  {
   "cell_type": "code",
   "execution_count": 2,
   "metadata": {},
   "outputs": [
    {
     "name": "stdout",
     "output_type": "stream",
     "text": [
      "10 * 2 = 20\n"
     ]
    }
   ],
   "source": [
    "input = Int32(10)\n",
    "output =  ccall((:double_input, \"target/debug/libdouble_input\"),\n",
    "                        Int32, (Int32,), input)\n",
    "\n",
    "print(input)\n",
    "print(\" * 2 = \")\n",
    "println(output)"
   ]
  }
 ],
 "metadata": {
  "kernelspec": {
   "display_name": "Julia 1.8.4",
   "language": "julia",
   "name": "julia-1.8"
  },
  "language_info": {
   "file_extension": ".jl",
   "mimetype": "application/julia",
   "name": "julia",
   "version": "1.8.4"
  },
  "orig_nbformat": 4
 },
 "nbformat": 4,
 "nbformat_minor": 2
}
