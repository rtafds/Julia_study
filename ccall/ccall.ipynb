{
 "cells": [
  {
   "attachments": {},
   "cell_type": "markdown",
   "metadata": {},
   "source": [
    "## C or Fortranのコードの呼び出し\n",
    "https://docs.julialang.org/en/v1/manual/running-external-programs/  \n",
    "https://qiita.com/SatoshiTerasaki/items/ca33e1d75fe62cee842b  \n",
    "https://stackoverflow.com/questions/33003174/calling-a-c-function-from-julia-and-passing-a-2d-array-as-a-pointer-of-pointers    \n"
   ]
  },
  {
   "cell_type": "code",
   "execution_count": 3,
   "metadata": {},
   "outputs": [
    {
     "name": "stdout",
     "output_type": "stream",
     "text": [
      "hello\n"
     ]
    },
    {
     "data": {
      "text/plain": [
       "Process(`\u001b[4mecho\u001b[24m \u001b[4mhello\u001b[24m`, ProcessExited(0))"
      ]
     },
     "execution_count": 3,
     "metadata": {},
     "output_type": "execute_result"
    }
   ],
   "source": [
    "# こんな感じでシェルを動かせるので、一応シェルを使えば最低限はなんとかなる\n",
    "run(`echo hello`)"
   ]
  },
  {
   "cell_type": "code",
   "execution_count": 5,
   "metadata": {},
   "outputs": [
    {
     "data": {
      "text/plain": [
       "Process(`\u001b[4mgcc\u001b[24m \u001b[4m-shared\u001b[24m \u001b[4m-fPIC\u001b[24m \u001b[4m-o\u001b[24m \u001b[4mlibmean.so\u001b[24m \u001b[4mcalc_mean.c\u001b[24m`, ProcessExited(0))"
      ]
     },
     "execution_count": 5,
     "metadata": {},
     "output_type": "execute_result"
    }
   ],
   "source": [
    "# ccall sample\n",
    "# calc_mean.c をビルドする\n",
    "run(`gcc -shared -fPIC -o libmean.so calc_mean.c`)"
   ]
  },
  {
   "cell_type": "code",
   "execution_count": 7,
   "metadata": {},
   "outputs": [
    {
     "data": {
      "text/plain": [
       "3.5"
      ]
     },
     "execution_count": 7,
     "metadata": {},
     "output_type": "execute_result"
    }
   ],
   "source": [
    "cfunc=(x,y)->ccall((:mean,\"libmean.so\"),Float64,(Float64,Float64),x,y)\n",
    "cfunc(3.0,4.0)"
   ]
  }
 ],
 "metadata": {
  "kernelspec": {
   "display_name": "Julia 1.8.4",
   "language": "julia",
   "name": "julia-1.8"
  },
  "language_info": {
   "file_extension": ".jl",
   "mimetype": "application/julia",
   "name": "julia",
   "version": "1.8.4"
  },
  "orig_nbformat": 4
 },
 "nbformat": 4,
 "nbformat_minor": 2
}
