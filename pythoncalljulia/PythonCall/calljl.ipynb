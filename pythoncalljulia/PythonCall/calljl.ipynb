{
 "cells": [
  {
   "attachments": {},
   "cell_type": "markdown",
   "metadata": {},
   "source": [
    "https://cjdoris.github.io/PythonCall.jl/stable/juliacall/"
   ]
  },
  {
   "cell_type": "code",
   "execution_count": 1,
   "metadata": {},
   "outputs": [],
   "source": [
    "from juliacall import Main as jl, convert as jlconvert\n"
   ]
  },
  {
   "cell_type": "code",
   "execution_count": 3,
   "metadata": {},
   "outputs": [
    {
     "name": "stdout",
     "output_type": "stream",
     "text": [
      "Hello, world\n"
     ]
    }
   ],
   "source": [
    "jl.println(\"Hello, world\")"
   ]
  },
  {
   "cell_type": "code",
   "execution_count": 4,
   "metadata": {},
   "outputs": [
    {
     "ename": "JuliaError",
     "evalue": "Base.Meta.ParseError(\"character literal contains multiple characters\")\nStacktrace:\n [1] #parse#3\n   @ ./meta.jl:237 [inlined]\n [2] parse(str::String; raise::Bool, depwarn::Bool)\n   @ Base.Meta ./meta.jl:268\n [3] parse\n   @ ./meta.jl:267 [inlined]\n [4] pyjlmodule_seval(self::Module, expr::PythonCall.Py)\n   @ PythonCall ~/.julia/packages/PythonCall/3GRYN/src/jlwrap/module.jl:13\n [5] _pyjl_callmethod(f::Any, self_::Ptr{PythonCall.C.PyObject}, args_::Ptr{PythonCall.C.PyObject}, nargs::Int64)\n   @ PythonCall ~/.julia/packages/PythonCall/3GRYN/src/jlwrap/base.jl:62\n [6] _pyjl_callmethod(o::Ptr{PythonCall.C.PyObject}, args::Ptr{PythonCall.C.PyObject})\n   @ PythonCall.C ~/.julia/packages/PythonCall/3GRYN/src/cpython/jlwrap.jl:47",
     "output_type": "error",
     "traceback": [
      "\u001b[0;31m---------------------------------------------------------------------------\u001b[0m",
      "\u001b[0;31mJuliaError\u001b[0m                                Traceback (most recent call last)",
      "\u001b[1;32m/Users/smamitsu/Github/Julia_study/pythoncalljulia/PythonCall/calljl.ipynb セル 4\u001b[0m in \u001b[0;36m<cell line: 1>\u001b[0;34m()\u001b[0m\n\u001b[0;32m----> <a href='vscode-notebook-cell:/Users/smamitsu/Github/Julia_study/pythoncalljulia/PythonCall/calljl.ipynb#W4sZmlsZQ%3D%3D?line=0'>1</a>\u001b[0m jl\u001b[39m.\u001b[39;49mseval(\u001b[39m\"\u001b[39;49m\u001b[39minclude(\u001b[39;49m\u001b[39m'\u001b[39;49m\u001b[39m./test.jl\u001b[39;49m\u001b[39m'\u001b[39;49m\u001b[39m)\u001b[39;49m\u001b[39m\"\u001b[39;49m)\n",
      "File \u001b[0;32m~/.julia/packages/PythonCall/3GRYN/src/jlwrap/module.jl:25\u001b[0m, in \u001b[0;36mseval\u001b[0;34m(self, expr)\u001b[0m\n\u001b[1;32m     23\u001b[0m         return ValueBase.__dir__(self) + self._jl_callmethod($(pyjl_methodnum(pyjlmodule_dir)))\n\u001b[1;32m     24\u001b[0m     def seval(self, expr):\n\u001b[0;32m---> 25\u001b[0m         return self._jl_callmethod($(pyjl_methodnum(pyjlmodule_seval)), expr)\n\u001b[1;32m     26\u001b[0m \"\"\", @__FILE__(), \"exec\"), jl.__dict__)\n\u001b[1;32m     27\u001b[0m pycopy!(pyjlmoduletype, jl.ModuleValue)\n",
      "\u001b[0;31mJuliaError\u001b[0m: Base.Meta.ParseError(\"character literal contains multiple characters\")\nStacktrace:\n [1] #parse#3\n   @ ./meta.jl:237 [inlined]\n [2] parse(str::String; raise::Bool, depwarn::Bool)\n   @ Base.Meta ./meta.jl:268\n [3] parse\n   @ ./meta.jl:267 [inlined]\n [4] pyjlmodule_seval(self::Module, expr::PythonCall.Py)\n   @ PythonCall ~/.julia/packages/PythonCall/3GRYN/src/jlwrap/module.jl:13\n [5] _pyjl_callmethod(f::Any, self_::Ptr{PythonCall.C.PyObject}, args_::Ptr{PythonCall.C.PyObject}, nargs::Int64)\n   @ PythonCall ~/.julia/packages/PythonCall/3GRYN/src/jlwrap/base.jl:62\n [6] _pyjl_callmethod(o::Ptr{PythonCall.C.PyObject}, args::Ptr{PythonCall.C.PyObject})\n   @ PythonCall.C ~/.julia/packages/PythonCall/3GRYN/src/cpython/jlwrap.jl:47"
     ]
    }
   ],
   "source": [
    "jl.seval(\"include('./test.jl')\")"
   ]
  }
 ],
 "metadata": {
  "kernelspec": {
   "display_name": "base",
   "language": "python",
   "name": "python3"
  },
  "language_info": {
   "codemirror_mode": {
    "name": "ipython",
    "version": 3
   },
   "file_extension": ".py",
   "mimetype": "text/x-python",
   "name": "python",
   "nbconvert_exporter": "python",
   "pygments_lexer": "ipython3",
   "version": "3.9.13"
  },
  "orig_nbformat": 4,
  "vscode": {
   "interpreter": {
    "hash": "ba4d07005661faea0b641e0d14f3da0f14a7ea8561d88de50cdc85682abb97c7"
   }
  }
 },
 "nbformat": 4,
 "nbformat_minor": 2
}
