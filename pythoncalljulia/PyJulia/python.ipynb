{
 "cells": [
  {
   "attachments": {},
   "cell_type": "markdown",
   "metadata": {},
   "source": [
    "https://qiita.com/SatoshiTerasaki/items/9d775c294a10c1f2edfe  \n"
   ]
  },
  {
   "cell_type": "code",
   "execution_count": 1,
   "metadata": {},
   "outputs": [
    {
     "name": "stdout",
     "output_type": "stream",
     "text": [
      "Collecting julia\n",
      "  Using cached julia-0.6.0-py2.py3-none-any.whl (68 kB)\n",
      "Installing collected packages: julia\n",
      "Successfully installed julia-0.6.0\n"
     ]
    }
   ],
   "source": [
    "!pip install julia"
   ]
  },
  {
   "cell_type": "code",
   "execution_count": null,
   "metadata": {},
   "outputs": [
    {
     "ename": "",
     "evalue": "",
     "output_type": "error",
     "traceback": [
      "\u001b[1;31mカーネルを起動できませんでした。 \n",
      "\u001b[1;31mUnhandled error. \n",
      "\u001b[1;31m詳細については、Jupyter [ログ] (command:jupyter.viewOutput) を参照してください。"
     ]
    }
   ],
   "source": [
    "import numpy as np\n",
    "\n",
    "\n",
    "def main():\n",
    "    from julia import Julia\n",
    "    julia = Julia()\n",
    "    julia.eval(\"@eval Main import Base.MainInclude: include\")\n",
    "    from julia import Main\n",
    "    Main.include(\"test.jl\")\n",
    "\n",
    "    arr = np.array([1, 2, 3])\n",
    "    ret = Main.twice_array(arr)\n",
    "\n",
    "    print(\"arr =\", arr)\n",
    "    print(\"ret =\", ret)\n",
    "\n",
    "\n",
    "if __name__ == '__main__':\n",
    "    main()"
   ]
  }
 ],
 "metadata": {
  "kernelspec": {
   "display_name": "base",
   "language": "python",
   "name": "python3"
  },
  "language_info": {
   "codemirror_mode": {
    "name": "ipython",
    "version": 3
   },
   "file_extension": ".py",
   "mimetype": "text/x-python",
   "name": "python",
   "nbconvert_exporter": "python",
   "pygments_lexer": "ipython3",
   "version": "3.9.12"
  },
  "orig_nbformat": 4,
  "vscode": {
   "interpreter": {
    "hash": "f282b2e88947ff9c84f124607192b11da32c460e2b9e787de5eaecbe6ba54543"
   }
  }
 },
 "nbformat": 4,
 "nbformat_minor": 2
}
